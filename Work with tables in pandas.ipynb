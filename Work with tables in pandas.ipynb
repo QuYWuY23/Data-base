{
 "cells": [
  {
   "cell_type": "markdown",
   "id": "8b5551e4",
   "metadata": {},
   "source": [
    "## Установка pandas"
   ]
  },
  {
   "cell_type": "code",
   "execution_count": 52,
   "id": "d45712c2",
   "metadata": {},
   "outputs": [
    {
     "name": "stdout",
     "output_type": "stream",
     "text": [
      "Requirement already satisfied: pandas in c:\\users\\zavar\\anaconda33\\lib\\site-packages (2.1.4)\n",
      "Requirement already satisfied: numpy<2,>=1.23.2 in c:\\users\\zavar\\anaconda33\\lib\\site-packages (from pandas) (1.26.4)\n",
      "Requirement already satisfied: python-dateutil>=2.8.2 in c:\\users\\zavar\\anaconda33\\lib\\site-packages (from pandas) (2.8.2)\n",
      "Requirement already satisfied: pytz>=2020.1 in c:\\users\\zavar\\anaconda33\\lib\\site-packages (from pandas) (2023.3.post1)\n",
      "Requirement already satisfied: tzdata>=2022.1 in c:\\users\\zavar\\anaconda33\\lib\\site-packages (from pandas) (2023.3)\n",
      "Requirement already satisfied: six>=1.5 in c:\\users\\zavar\\anaconda33\\lib\\site-packages (from python-dateutil>=2.8.2->pandas) (1.16.0)\n"
     ]
    }
   ],
   "source": [
    "!pip3 install pandas"
   ]
  },
  {
   "cell_type": "code",
   "execution_count": 53,
   "id": "0f2bde54",
   "metadata": {},
   "outputs": [],
   "source": [
    "import pandas as pd"
   ]
  },
  {
   "cell_type": "markdown",
   "id": "bb177a51",
   "metadata": {},
   "source": [
    "## Чтение данных и фильтрация таблиц"
   ]
  },
  {
   "cell_type": "code",
   "execution_count": 54,
   "id": "ab84ff39",
   "metadata": {},
   "outputs": [],
   "source": [
    "user = pd.read_csv('user.csv')"
   ]
  },
  {
   "cell_type": "code",
   "execution_count": 55,
   "id": "a2ffde9e",
   "metadata": {},
   "outputs": [
    {
     "data": {
      "text/html": [
       "<div>\n",
       "<style scoped>\n",
       "    .dataframe tbody tr th:only-of-type {\n",
       "        vertical-align: middle;\n",
       "    }\n",
       "\n",
       "    .dataframe tbody tr th {\n",
       "        vertical-align: top;\n",
       "    }\n",
       "\n",
       "    .dataframe thead th {\n",
       "        text-align: right;\n",
       "    }\n",
       "</style>\n",
       "<table border=\"1\" class=\"dataframe\">\n",
       "  <thead>\n",
       "    <tr style=\"text-align: right;\">\n",
       "      <th></th>\n",
       "      <th>id</th>\n",
       "      <th>gender</th>\n",
       "      <th>birthday</th>\n",
       "      <th>grade</th>\n",
       "      <th>region</th>\n",
       "      <th>last_visited</th>\n",
       "    </tr>\n",
       "  </thead>\n",
       "  <tbody>\n",
       "    <tr>\n",
       "      <th>0</th>\n",
       "      <td>1</td>\n",
       "      <td>М</td>\n",
       "      <td>02.11.2007</td>\n",
       "      <td>9.0</td>\n",
       "      <td>Город Санкт-Петербург</td>\n",
       "      <td>23.08.2023 03:04:14</td>\n",
       "    </tr>\n",
       "    <tr>\n",
       "      <th>1</th>\n",
       "      <td>2</td>\n",
       "      <td>Ж</td>\n",
       "      <td>29.01.2009</td>\n",
       "      <td>8.0</td>\n",
       "      <td>Город Москва</td>\n",
       "      <td>07.09.2023 09:21:35</td>\n",
       "    </tr>\n",
       "    <tr>\n",
       "      <th>2</th>\n",
       "      <td>3</td>\n",
       "      <td>М</td>\n",
       "      <td>09.05.2007</td>\n",
       "      <td>NaN</td>\n",
       "      <td>Город Санкт-Петербург</td>\n",
       "      <td>23.08.2023 18:32:18</td>\n",
       "    </tr>\n",
       "    <tr>\n",
       "      <th>3</th>\n",
       "      <td>4</td>\n",
       "      <td>Ж</td>\n",
       "      <td>27.09.2007</td>\n",
       "      <td>9.0</td>\n",
       "      <td>Город Москва</td>\n",
       "      <td>18.08.2023 07:34:11</td>\n",
       "    </tr>\n",
       "    <tr>\n",
       "      <th>4</th>\n",
       "      <td>5</td>\n",
       "      <td>Ж</td>\n",
       "      <td>04.08.2007</td>\n",
       "      <td>NaN</td>\n",
       "      <td>Город Москва</td>\n",
       "      <td>02.09.2023 18:31:30</td>\n",
       "    </tr>\n",
       "  </tbody>\n",
       "</table>\n",
       "</div>"
      ],
      "text/plain": [
       "   id gender    birthday  grade                 region         last_visited\n",
       "0   1      М  02.11.2007    9.0  Город Санкт-Петербург  23.08.2023 03:04:14\n",
       "1   2      Ж  29.01.2009    8.0           Город Москва  07.09.2023 09:21:35\n",
       "2   3      М  09.05.2007    NaN  Город Санкт-Петербург  23.08.2023 18:32:18\n",
       "3   4      Ж  27.09.2007    9.0           Город Москва  18.08.2023 07:34:11\n",
       "4   5      Ж  04.08.2007    NaN           Город Москва  02.09.2023 18:31:30"
      ]
     },
     "execution_count": 55,
     "metadata": {},
     "output_type": "execute_result"
    }
   ],
   "source": [
    "user.head()"
   ]
  },
  {
   "cell_type": "code",
   "execution_count": 56,
   "id": "6bf1b0c8",
   "metadata": {},
   "outputs": [
    {
     "data": {
      "text/plain": [
       "dtype('<M8[ns]')"
      ]
     },
     "execution_count": 56,
     "metadata": {},
     "output_type": "execute_result"
    }
   ],
   "source": [
    "user['birthday'] = pd.to_datetime(user['birthday'], format = '%d.%m.%Y')\n",
    "user['birthday'].dtype"
   ]
  },
  {
   "cell_type": "code",
   "execution_count": 57,
   "id": "72963694",
   "metadata": {},
   "outputs": [
    {
     "data": {
      "text/plain": [
       "73"
      ]
     },
     "execution_count": 57,
     "metadata": {},
     "output_type": "execute_result"
    }
   ],
   "source": [
    "(user['birthday'].dt.month == 9).sum()"
   ]
  },
  {
   "cell_type": "code",
   "execution_count": 58,
   "id": "a622a80d",
   "metadata": {},
   "outputs": [],
   "source": [
    "user['last_visited'] = pd.to_datetime(user['last_visited'], format = '%d.%m.%Y %H:%M:%S')"
   ]
  },
  {
   "cell_type": "code",
   "execution_count": 59,
   "id": "46a80553",
   "metadata": {},
   "outputs": [
    {
     "data": {
      "text/plain": [
       "0      False\n",
       "1       True\n",
       "2      False\n",
       "3      False\n",
       "4       True\n",
       "       ...  \n",
       "995    False\n",
       "996    False\n",
       "997     True\n",
       "998     True\n",
       "999     True\n",
       "Name: last_visited, Length: 1000, dtype: bool"
      ]
     },
     "execution_count": 59,
     "metadata": {},
     "output_type": "execute_result"
    }
   ],
   "source": [
    "(user['last_visited'].dt.month == 9)"
   ]
  },
  {
   "cell_type": "code",
   "execution_count": 60,
   "id": "2d71e895",
   "metadata": {},
   "outputs": [
    {
     "data": {
      "text/plain": [
       "377"
      ]
     },
     "execution_count": 60,
     "metadata": {},
     "output_type": "execute_result"
    }
   ],
   "source": [
    "((user['last_visited'].dt.day <=14) & (user['last_visited'].dt.month == 9)).sum()"
   ]
  },
  {
   "cell_type": "code",
   "execution_count": 61,
   "id": "1cefa924",
   "metadata": {},
   "outputs": [
    {
     "data": {
      "text/plain": [
       "0       True\n",
       "1      False\n",
       "2      False\n",
       "3       True\n",
       "4      False\n",
       "       ...  \n",
       "995    False\n",
       "996    False\n",
       "997     True\n",
       "998     True\n",
       "999    False\n",
       "Name: grade, Length: 1000, dtype: bool"
      ]
     },
     "execution_count": 61,
     "metadata": {},
     "output_type": "execute_result"
    }
   ],
   "source": [
    "user['grade'] == 9"
   ]
  },
  {
   "cell_type": "code",
   "execution_count": 62,
   "id": "c9b1cb7c",
   "metadata": {},
   "outputs": [
    {
     "data": {
      "text/plain": [
       "101"
      ]
     },
     "execution_count": 62,
     "metadata": {},
     "output_type": "execute_result"
    }
   ],
   "source": [
    "((user['gender'] == 'М') & (user['grade'] == 9)).sum()"
   ]
  },
  {
   "cell_type": "code",
   "execution_count": 63,
   "id": "4e174528",
   "metadata": {},
   "outputs": [
    {
     "data": {
      "text/plain": [
       "96"
      ]
     },
     "execution_count": 63,
     "metadata": {},
     "output_type": "execute_result"
    }
   ],
   "source": [
    "((user['gender'] == 'Ж') & (user['grade'] == 9)).sum()"
   ]
  },
  {
   "cell_type": "code",
   "execution_count": 65,
   "id": "5c273e99",
   "metadata": {},
   "outputs": [
    {
     "data": {
      "text/plain": [
       "197"
      ]
     },
     "execution_count": 65,
     "metadata": {},
     "output_type": "execute_result"
    }
   ],
   "source": [
    "(user['grade'] == 9).sum()"
   ]
  },
  {
   "cell_type": "code",
   "execution_count": 71,
   "id": "c0b14cb9",
   "metadata": {},
   "outputs": [
    {
     "data": {
      "text/plain": [
       "831"
      ]
     },
     "execution_count": 71,
     "metadata": {},
     "output_type": "execute_result"
    }
   ],
   "source": [
    "((user['grade'] >=1) & (user['grade'] <=11)).sum()"
   ]
  },
  {
   "cell_type": "code",
   "execution_count": 75,
   "id": "77dd5799",
   "metadata": {},
   "outputs": [
    {
     "data": {
      "text/plain": [
       "7.0"
      ]
     },
     "execution_count": 75,
     "metadata": {},
     "output_type": "execute_result"
    }
   ],
   "source": [
    "(user['grade']).min()"
   ]
  },
  {
   "cell_type": "code",
   "execution_count": 76,
   "id": "ddfef634",
   "metadata": {},
   "outputs": [
    {
     "data": {
      "text/plain": [
       "23.706377858002405"
      ]
     },
     "execution_count": 76,
     "metadata": {},
     "output_type": "execute_result"
    }
   ],
   "source": [
    "(197/(831))*100"
   ]
  },
  {
   "cell_type": "code",
   "execution_count": 90,
   "id": "4e1a10dc",
   "metadata": {},
   "outputs": [],
   "source": [
    "user['region'] = user['region'].str.lower()"
   ]
  },
  {
   "cell_type": "code",
   "execution_count": 96,
   "id": "5996a272",
   "metadata": {},
   "outputs": [],
   "source": [
    "table = (user['region'].str.find('город'))"
   ]
  },
  {
   "cell_type": "code",
   "execution_count": 100,
   "id": "3123da7f",
   "metadata": {},
   "outputs": [
    {
     "data": {
      "text/plain": [
       "765"
      ]
     },
     "execution_count": 100,
     "metadata": {},
     "output_type": "execute_result"
    }
   ],
   "source": [
    "1000 - (table == -1).sum()"
   ]
  },
  {
   "cell_type": "code",
   "execution_count": 88,
   "id": "4b7fc301",
   "metadata": {},
   "outputs": [
    {
     "name": "stdout",
     "output_type": "stream",
     "text": [
      "город в  Wкотором я живу\n",
      "6\n"
     ]
    }
   ],
   "source": [
    "user['region'].str.find('город')\n",
    "stringg = 'город в  Wкотором я живу'\n",
    "print(stringg)\n",
    "print(stringg.find('в'))"
   ]
  },
  {
   "cell_type": "code",
   "execution_count": 104,
   "id": "935e6c27",
   "metadata": {},
   "outputs": [
    {
     "name": "stdout",
     "output_type": "stream",
     "text": [
      "МЖМ\n"
     ]
    }
   ],
   "source": [
    "gender = pd.Series(['М', 'Ж', 'М' ])\n",
    "print(gender.sum())"
   ]
  },
  {
   "cell_type": "markdown",
   "id": "b5539d87",
   "metadata": {},
   "source": [
    "### Задание 1"
   ]
  },
  {
   "cell_type": "markdown",
   "id": "ae00c5b8",
   "metadata": {},
   "source": [
    "Сколько в таблице `user` представлено учеников, родившихся в сентябре?"
   ]
  },
  {
   "cell_type": "markdown",
   "id": "0f328db0",
   "metadata": {},
   "source": [
    "### Задание 2"
   ]
  },
  {
   "cell_type": "markdown",
   "id": "b5c4a9d8",
   "metadata": {},
   "source": [
    "Какое количество учеников в последний раз посещали платформу в первые $14$ дней сентября?"
   ]
  },
  {
   "cell_type": "markdown",
   "id": "624a946a",
   "metadata": {},
   "source": [
    "### Задание 3"
   ]
  },
  {
   "cell_type": "markdown",
   "id": "2cb7a2e7",
   "metadata": {},
   "source": [
    "На сколько в данных больше девятиклассников, чем девятиклассниц?"
   ]
  },
  {
   "cell_type": "markdown",
   "id": "1cf486a9",
   "metadata": {},
   "source": [
    "### Задание 4"
   ]
  },
  {
   "cell_type": "markdown",
   "id": "6eacddf0",
   "metadata": {},
   "source": [
    "Какой процент учеников, у которых указан класс, обучается в $9$-м классе?\n",
    "\n",
    "Ответ округлите до целых."
   ]
  },
  {
   "cell_type": "markdown",
   "id": "07097adb",
   "metadata": {},
   "source": [
    "### Задание 5"
   ]
  },
  {
   "cell_type": "markdown",
   "id": "0906829a",
   "metadata": {},
   "source": [
    "Сколько в данных представлено учеников из регионов, в названиях которых в качестве подстроки содержится слово «город»?\n",
    "\n",
    "При расчёте статистики приведите названия регионов к строчному написанию."
   ]
  },
  {
   "cell_type": "markdown",
   "id": "eb7dddb6",
   "metadata": {},
   "source": [
    "## Группировка, агрегация и соединение таблиц"
   ]
  },
  {
   "cell_type": "code",
   "execution_count": 105,
   "id": "57f47640",
   "metadata": {},
   "outputs": [],
   "source": [
    "course = pd.read_csv('course.csv')"
   ]
  },
  {
   "cell_type": "code",
   "execution_count": 106,
   "id": "1473a0b6",
   "metadata": {},
   "outputs": [],
   "source": [
    "user_course_progress = pd.read_csv('user_course_progress.csv')"
   ]
  },
  {
   "cell_type": "code",
   "execution_count": 110,
   "id": "a515daa0",
   "metadata": {},
   "outputs": [
    {
     "data": {
      "text/html": [
       "<div>\n",
       "<style scoped>\n",
       "    .dataframe tbody tr th:only-of-type {\n",
       "        vertical-align: middle;\n",
       "    }\n",
       "\n",
       "    .dataframe tbody tr th {\n",
       "        vertical-align: top;\n",
       "    }\n",
       "\n",
       "    .dataframe thead th {\n",
       "        text-align: right;\n",
       "    }\n",
       "</style>\n",
       "<table border=\"1\" class=\"dataframe\">\n",
       "  <thead>\n",
       "    <tr style=\"text-align: right;\">\n",
       "      <th></th>\n",
       "      <th>id</th>\n",
       "      <th>subject</th>\n",
       "      <th>date_started</th>\n",
       "      <th>max_score</th>\n",
       "    </tr>\n",
       "  </thead>\n",
       "  <tbody>\n",
       "    <tr>\n",
       "      <th>0</th>\n",
       "      <td>1</td>\n",
       "      <td>Химия</td>\n",
       "      <td>2023-04-04</td>\n",
       "      <td>108.0</td>\n",
       "    </tr>\n",
       "    <tr>\n",
       "      <th>1</th>\n",
       "      <td>2</td>\n",
       "      <td>Физика</td>\n",
       "      <td>2023-01-31</td>\n",
       "      <td>137.0</td>\n",
       "    </tr>\n",
       "    <tr>\n",
       "      <th>2</th>\n",
       "      <td>3</td>\n",
       "      <td>Биология</td>\n",
       "      <td>2023-09-14</td>\n",
       "      <td>NaN</td>\n",
       "    </tr>\n",
       "    <tr>\n",
       "      <th>3</th>\n",
       "      <td>4</td>\n",
       "      <td>Химия</td>\n",
       "      <td>2023-03-31</td>\n",
       "      <td>118.0</td>\n",
       "    </tr>\n",
       "    <tr>\n",
       "      <th>4</th>\n",
       "      <td>5</td>\n",
       "      <td>Физика</td>\n",
       "      <td>2023-11-30</td>\n",
       "      <td>NaN</td>\n",
       "    </tr>\n",
       "    <tr>\n",
       "      <th>5</th>\n",
       "      <td>6</td>\n",
       "      <td>Химия</td>\n",
       "      <td>2023-03-03</td>\n",
       "      <td>102.0</td>\n",
       "    </tr>\n",
       "    <tr>\n",
       "      <th>6</th>\n",
       "      <td>7</td>\n",
       "      <td>Биология</td>\n",
       "      <td>2023-11-19</td>\n",
       "      <td>NaN</td>\n",
       "    </tr>\n",
       "    <tr>\n",
       "      <th>7</th>\n",
       "      <td>8</td>\n",
       "      <td>Физика</td>\n",
       "      <td>2023-06-08</td>\n",
       "      <td>NaN</td>\n",
       "    </tr>\n",
       "    <tr>\n",
       "      <th>8</th>\n",
       "      <td>9</td>\n",
       "      <td>Химия</td>\n",
       "      <td>2023-01-16</td>\n",
       "      <td>120.0</td>\n",
       "    </tr>\n",
       "    <tr>\n",
       "      <th>9</th>\n",
       "      <td>10</td>\n",
       "      <td>Математика</td>\n",
       "      <td>2023-02-18</td>\n",
       "      <td>104.0</td>\n",
       "    </tr>\n",
       "  </tbody>\n",
       "</table>\n",
       "</div>"
      ],
      "text/plain": [
       "   id     subject date_started  max_score\n",
       "0   1       Химия   2023-04-04      108.0\n",
       "1   2      Физика   2023-01-31      137.0\n",
       "2   3    Биология   2023-09-14        NaN\n",
       "3   4       Химия   2023-03-31      118.0\n",
       "4   5      Физика   2023-11-30        NaN\n",
       "5   6       Химия   2023-03-03      102.0\n",
       "6   7    Биология   2023-11-19        NaN\n",
       "7   8      Физика   2023-06-08        NaN\n",
       "8   9       Химия   2023-01-16      120.0\n",
       "9  10  Математика   2023-02-18      104.0"
      ]
     },
     "execution_count": 110,
     "metadata": {},
     "output_type": "execute_result"
    }
   ],
   "source": [
    "course"
   ]
  },
  {
   "cell_type": "code",
   "execution_count": 109,
   "id": "57e9f8b9",
   "metadata": {},
   "outputs": [
    {
     "data": {
      "text/html": [
       "<div>\n",
       "<style scoped>\n",
       "    .dataframe tbody tr th:only-of-type {\n",
       "        vertical-align: middle;\n",
       "    }\n",
       "\n",
       "    .dataframe tbody tr th {\n",
       "        vertical-align: top;\n",
       "    }\n",
       "\n",
       "    .dataframe thead th {\n",
       "        text-align: right;\n",
       "    }\n",
       "</style>\n",
       "<table border=\"1\" class=\"dataframe\">\n",
       "  <thead>\n",
       "    <tr style=\"text-align: right;\">\n",
       "      <th></th>\n",
       "      <th>user_id</th>\n",
       "      <th>course_id</th>\n",
       "      <th>progress</th>\n",
       "    </tr>\n",
       "  </thead>\n",
       "  <tbody>\n",
       "    <tr>\n",
       "      <th>0</th>\n",
       "      <td>392</td>\n",
       "      <td>1</td>\n",
       "      <td>31.68</td>\n",
       "    </tr>\n",
       "    <tr>\n",
       "      <th>1</th>\n",
       "      <td>217</td>\n",
       "      <td>1</td>\n",
       "      <td>97.53</td>\n",
       "    </tr>\n",
       "    <tr>\n",
       "      <th>2</th>\n",
       "      <td>843</td>\n",
       "      <td>1</td>\n",
       "      <td>81.50</td>\n",
       "    </tr>\n",
       "    <tr>\n",
       "      <th>3</th>\n",
       "      <td>417</td>\n",
       "      <td>1</td>\n",
       "      <td>15.92</td>\n",
       "    </tr>\n",
       "    <tr>\n",
       "      <th>4</th>\n",
       "      <td>605</td>\n",
       "      <td>1</td>\n",
       "      <td>103.31</td>\n",
       "    </tr>\n",
       "    <tr>\n",
       "      <th>...</th>\n",
       "      <td>...</td>\n",
       "      <td>...</td>\n",
       "      <td>...</td>\n",
       "    </tr>\n",
       "    <tr>\n",
       "      <th>1706</th>\n",
       "      <td>898</td>\n",
       "      <td>10</td>\n",
       "      <td>8.01</td>\n",
       "    </tr>\n",
       "    <tr>\n",
       "      <th>1707</th>\n",
       "      <td>201</td>\n",
       "      <td>10</td>\n",
       "      <td>0.71</td>\n",
       "    </tr>\n",
       "    <tr>\n",
       "      <th>1708</th>\n",
       "      <td>334</td>\n",
       "      <td>10</td>\n",
       "      <td>1.90</td>\n",
       "    </tr>\n",
       "    <tr>\n",
       "      <th>1709</th>\n",
       "      <td>112</td>\n",
       "      <td>10</td>\n",
       "      <td>2.16</td>\n",
       "    </tr>\n",
       "    <tr>\n",
       "      <th>1710</th>\n",
       "      <td>255</td>\n",
       "      <td>10</td>\n",
       "      <td>5.99</td>\n",
       "    </tr>\n",
       "  </tbody>\n",
       "</table>\n",
       "<p>1711 rows × 3 columns</p>\n",
       "</div>"
      ],
      "text/plain": [
       "      user_id  course_id  progress\n",
       "0         392          1     31.68\n",
       "1         217          1     97.53\n",
       "2         843          1     81.50\n",
       "3         417          1     15.92\n",
       "4         605          1    103.31\n",
       "...       ...        ...       ...\n",
       "1706      898         10      8.01\n",
       "1707      201         10      0.71\n",
       "1708      334         10      1.90\n",
       "1709      112         10      2.16\n",
       "1710      255         10      5.99\n",
       "\n",
       "[1711 rows x 3 columns]"
      ]
     },
     "execution_count": 109,
     "metadata": {},
     "output_type": "execute_result"
    }
   ],
   "source": [
    "user_course_progress"
   ]
  },
  {
   "cell_type": "code",
   "execution_count": 131,
   "id": "a80e9156",
   "metadata": {},
   "outputs": [],
   "source": [
    "user_students_progress = user_course_progress.merge(course, left_on= 'course_id',right_on= 'id' )"
   ]
  },
  {
   "cell_type": "code",
   "execution_count": 136,
   "id": "679b68e8",
   "metadata": {},
   "outputs": [
    {
     "data": {
      "text/html": [
       "<div>\n",
       "<style scoped>\n",
       "    .dataframe tbody tr th:only-of-type {\n",
       "        vertical-align: middle;\n",
       "    }\n",
       "\n",
       "    .dataframe tbody tr th {\n",
       "        vertical-align: top;\n",
       "    }\n",
       "\n",
       "    .dataframe thead th {\n",
       "        text-align: right;\n",
       "    }\n",
       "</style>\n",
       "<table border=\"1\" class=\"dataframe\">\n",
       "  <thead>\n",
       "    <tr style=\"text-align: right;\">\n",
       "      <th></th>\n",
       "      <th>user_id</th>\n",
       "      <th>course_id</th>\n",
       "      <th>progress</th>\n",
       "      <th>id</th>\n",
       "      <th>subject</th>\n",
       "      <th>date_started</th>\n",
       "      <th>max_score</th>\n",
       "    </tr>\n",
       "  </thead>\n",
       "  <tbody>\n",
       "    <tr>\n",
       "      <th>0</th>\n",
       "      <td>392</td>\n",
       "      <td>1</td>\n",
       "      <td>31.68</td>\n",
       "      <td>1</td>\n",
       "      <td>Химия</td>\n",
       "      <td>2023-04-04</td>\n",
       "      <td>108.0</td>\n",
       "    </tr>\n",
       "    <tr>\n",
       "      <th>1</th>\n",
       "      <td>217</td>\n",
       "      <td>1</td>\n",
       "      <td>97.53</td>\n",
       "      <td>1</td>\n",
       "      <td>Химия</td>\n",
       "      <td>2023-04-04</td>\n",
       "      <td>108.0</td>\n",
       "    </tr>\n",
       "    <tr>\n",
       "      <th>2</th>\n",
       "      <td>843</td>\n",
       "      <td>1</td>\n",
       "      <td>81.50</td>\n",
       "      <td>1</td>\n",
       "      <td>Химия</td>\n",
       "      <td>2023-04-04</td>\n",
       "      <td>108.0</td>\n",
       "    </tr>\n",
       "    <tr>\n",
       "      <th>3</th>\n",
       "      <td>417</td>\n",
       "      <td>1</td>\n",
       "      <td>15.92</td>\n",
       "      <td>1</td>\n",
       "      <td>Химия</td>\n",
       "      <td>2023-04-04</td>\n",
       "      <td>108.0</td>\n",
       "    </tr>\n",
       "    <tr>\n",
       "      <th>4</th>\n",
       "      <td>605</td>\n",
       "      <td>1</td>\n",
       "      <td>103.31</td>\n",
       "      <td>1</td>\n",
       "      <td>Химия</td>\n",
       "      <td>2023-04-04</td>\n",
       "      <td>108.0</td>\n",
       "    </tr>\n",
       "    <tr>\n",
       "      <th>...</th>\n",
       "      <td>...</td>\n",
       "      <td>...</td>\n",
       "      <td>...</td>\n",
       "      <td>...</td>\n",
       "      <td>...</td>\n",
       "      <td>...</td>\n",
       "      <td>...</td>\n",
       "    </tr>\n",
       "    <tr>\n",
       "      <th>1706</th>\n",
       "      <td>898</td>\n",
       "      <td>10</td>\n",
       "      <td>8.01</td>\n",
       "      <td>10</td>\n",
       "      <td>Математика</td>\n",
       "      <td>2023-02-18</td>\n",
       "      <td>104.0</td>\n",
       "    </tr>\n",
       "    <tr>\n",
       "      <th>1707</th>\n",
       "      <td>201</td>\n",
       "      <td>10</td>\n",
       "      <td>0.71</td>\n",
       "      <td>10</td>\n",
       "      <td>Математика</td>\n",
       "      <td>2023-02-18</td>\n",
       "      <td>104.0</td>\n",
       "    </tr>\n",
       "    <tr>\n",
       "      <th>1708</th>\n",
       "      <td>334</td>\n",
       "      <td>10</td>\n",
       "      <td>1.90</td>\n",
       "      <td>10</td>\n",
       "      <td>Математика</td>\n",
       "      <td>2023-02-18</td>\n",
       "      <td>104.0</td>\n",
       "    </tr>\n",
       "    <tr>\n",
       "      <th>1709</th>\n",
       "      <td>112</td>\n",
       "      <td>10</td>\n",
       "      <td>2.16</td>\n",
       "      <td>10</td>\n",
       "      <td>Математика</td>\n",
       "      <td>2023-02-18</td>\n",
       "      <td>104.0</td>\n",
       "    </tr>\n",
       "    <tr>\n",
       "      <th>1710</th>\n",
       "      <td>255</td>\n",
       "      <td>10</td>\n",
       "      <td>5.99</td>\n",
       "      <td>10</td>\n",
       "      <td>Математика</td>\n",
       "      <td>2023-02-18</td>\n",
       "      <td>104.0</td>\n",
       "    </tr>\n",
       "  </tbody>\n",
       "</table>\n",
       "<p>1711 rows × 7 columns</p>\n",
       "</div>"
      ],
      "text/plain": [
       "      user_id  course_id  progress  id     subject date_started  max_score\n",
       "0         392          1     31.68   1       Химия   2023-04-04      108.0\n",
       "1         217          1     97.53   1       Химия   2023-04-04      108.0\n",
       "2         843          1     81.50   1       Химия   2023-04-04      108.0\n",
       "3         417          1     15.92   1       Химия   2023-04-04      108.0\n",
       "4         605          1    103.31   1       Химия   2023-04-04      108.0\n",
       "...       ...        ...       ...  ..         ...          ...        ...\n",
       "1706      898         10      8.01  10  Математика   2023-02-18      104.0\n",
       "1707      201         10      0.71  10  Математика   2023-02-18      104.0\n",
       "1708      334         10      1.90  10  Математика   2023-02-18      104.0\n",
       "1709      112         10      2.16  10  Математика   2023-02-18      104.0\n",
       "1710      255         10      5.99  10  Математика   2023-02-18      104.0\n",
       "\n",
       "[1711 rows x 7 columns]"
      ]
     },
     "execution_count": 136,
     "metadata": {},
     "output_type": "execute_result"
    }
   ],
   "source": [
    "user_students_progress"
   ]
  },
  {
   "cell_type": "code",
   "execution_count": 133,
   "id": "f0d76698",
   "metadata": {},
   "outputs": [
    {
     "data": {
      "text/plain": [
       "680"
      ]
     },
     "execution_count": 133,
     "metadata": {},
     "output_type": "execute_result"
    }
   ],
   "source": [
    "(user_students_progress['max_score'].isnull()).sum()"
   ]
  },
  {
   "cell_type": "code",
   "execution_count": 143,
   "id": "4cad19e7",
   "metadata": {},
   "outputs": [
    {
     "data": {
      "text/plain": [
       "1031"
      ]
     },
     "execution_count": 143,
     "metadata": {},
     "output_type": "execute_result"
    }
   ],
   "source": [
    "(user_students_progress['max_score'].isnull().replace({False: True, True: False})).sum()"
   ]
  },
  {
   "cell_type": "code",
   "execution_count": 146,
   "id": "6b073827",
   "metadata": {},
   "outputs": [],
   "source": [
    "new_user_students_progress = user_students_progress.loc[(user_students_progress['max_score'].isnull().replace({False: True, True: False})) ]"
   ]
  },
  {
   "cell_type": "code",
   "execution_count": 147,
   "id": "f6a9aed1",
   "metadata": {},
   "outputs": [
    {
     "data": {
      "text/plain": [
       "0       0.293333\n",
       "1       0.903056\n",
       "2       0.754630\n",
       "3       0.147407\n",
       "4       0.956574\n",
       "          ...   \n",
       "1706    0.077019\n",
       "1707    0.006827\n",
       "1708    0.018269\n",
       "1709    0.020769\n",
       "1710    0.057596\n",
       "Length: 1031, dtype: float64"
      ]
     },
     "execution_count": 147,
     "metadata": {},
     "output_type": "execute_result"
    }
   ],
   "source": [
    "new_user_students_progress['progress']/new_user_students_progress['max_score']"
   ]
  },
  {
   "cell_type": "code",
   "execution_count": 150,
   "id": "56f1c1f3",
   "metadata": {},
   "outputs": [],
   "source": [
    "final_user_students_progress = new_user_students_progress.assign(relative_progress = (new_user_students_progress['progress']/new_user_students_progress['max_score']))"
   ]
  },
  {
   "cell_type": "code",
   "execution_count": 151,
   "id": "f4d2d921",
   "metadata": {},
   "outputs": [
    {
     "data": {
      "text/plain": [
       "0.3507670784147926"
      ]
     },
     "execution_count": 151,
     "metadata": {},
     "output_type": "execute_result"
    }
   ],
   "source": [
    "final_user_students_progress['relative_progress'].mean()"
   ]
  },
  {
   "cell_type": "code",
   "execution_count": 152,
   "id": "ff3d4a2c",
   "metadata": {},
   "outputs": [
    {
     "data": {
      "text/html": [
       "<div>\n",
       "<style scoped>\n",
       "    .dataframe tbody tr th:only-of-type {\n",
       "        vertical-align: middle;\n",
       "    }\n",
       "\n",
       "    .dataframe tbody tr th {\n",
       "        vertical-align: top;\n",
       "    }\n",
       "\n",
       "    .dataframe thead th {\n",
       "        text-align: right;\n",
       "    }\n",
       "</style>\n",
       "<table border=\"1\" class=\"dataframe\">\n",
       "  <thead>\n",
       "    <tr style=\"text-align: right;\">\n",
       "      <th></th>\n",
       "      <th>user_id</th>\n",
       "      <th>course_id</th>\n",
       "      <th>progress</th>\n",
       "      <th>id</th>\n",
       "      <th>subject</th>\n",
       "      <th>date_started</th>\n",
       "      <th>max_score</th>\n",
       "      <th>relative_progress</th>\n",
       "    </tr>\n",
       "  </thead>\n",
       "  <tbody>\n",
       "    <tr>\n",
       "      <th>0</th>\n",
       "      <td>392</td>\n",
       "      <td>1</td>\n",
       "      <td>31.68</td>\n",
       "      <td>1</td>\n",
       "      <td>Химия</td>\n",
       "      <td>2023-04-04</td>\n",
       "      <td>108.0</td>\n",
       "      <td>0.293333</td>\n",
       "    </tr>\n",
       "    <tr>\n",
       "      <th>1</th>\n",
       "      <td>217</td>\n",
       "      <td>1</td>\n",
       "      <td>97.53</td>\n",
       "      <td>1</td>\n",
       "      <td>Химия</td>\n",
       "      <td>2023-04-04</td>\n",
       "      <td>108.0</td>\n",
       "      <td>0.903056</td>\n",
       "    </tr>\n",
       "    <tr>\n",
       "      <th>2</th>\n",
       "      <td>843</td>\n",
       "      <td>1</td>\n",
       "      <td>81.50</td>\n",
       "      <td>1</td>\n",
       "      <td>Химия</td>\n",
       "      <td>2023-04-04</td>\n",
       "      <td>108.0</td>\n",
       "      <td>0.754630</td>\n",
       "    </tr>\n",
       "    <tr>\n",
       "      <th>3</th>\n",
       "      <td>417</td>\n",
       "      <td>1</td>\n",
       "      <td>15.92</td>\n",
       "      <td>1</td>\n",
       "      <td>Химия</td>\n",
       "      <td>2023-04-04</td>\n",
       "      <td>108.0</td>\n",
       "      <td>0.147407</td>\n",
       "    </tr>\n",
       "    <tr>\n",
       "      <th>4</th>\n",
       "      <td>605</td>\n",
       "      <td>1</td>\n",
       "      <td>103.31</td>\n",
       "      <td>1</td>\n",
       "      <td>Химия</td>\n",
       "      <td>2023-04-04</td>\n",
       "      <td>108.0</td>\n",
       "      <td>0.956574</td>\n",
       "    </tr>\n",
       "    <tr>\n",
       "      <th>...</th>\n",
       "      <td>...</td>\n",
       "      <td>...</td>\n",
       "      <td>...</td>\n",
       "      <td>...</td>\n",
       "      <td>...</td>\n",
       "      <td>...</td>\n",
       "      <td>...</td>\n",
       "      <td>...</td>\n",
       "    </tr>\n",
       "    <tr>\n",
       "      <th>1706</th>\n",
       "      <td>898</td>\n",
       "      <td>10</td>\n",
       "      <td>8.01</td>\n",
       "      <td>10</td>\n",
       "      <td>Математика</td>\n",
       "      <td>2023-02-18</td>\n",
       "      <td>104.0</td>\n",
       "      <td>0.077019</td>\n",
       "    </tr>\n",
       "    <tr>\n",
       "      <th>1707</th>\n",
       "      <td>201</td>\n",
       "      <td>10</td>\n",
       "      <td>0.71</td>\n",
       "      <td>10</td>\n",
       "      <td>Математика</td>\n",
       "      <td>2023-02-18</td>\n",
       "      <td>104.0</td>\n",
       "      <td>0.006827</td>\n",
       "    </tr>\n",
       "    <tr>\n",
       "      <th>1708</th>\n",
       "      <td>334</td>\n",
       "      <td>10</td>\n",
       "      <td>1.90</td>\n",
       "      <td>10</td>\n",
       "      <td>Математика</td>\n",
       "      <td>2023-02-18</td>\n",
       "      <td>104.0</td>\n",
       "      <td>0.018269</td>\n",
       "    </tr>\n",
       "    <tr>\n",
       "      <th>1709</th>\n",
       "      <td>112</td>\n",
       "      <td>10</td>\n",
       "      <td>2.16</td>\n",
       "      <td>10</td>\n",
       "      <td>Математика</td>\n",
       "      <td>2023-02-18</td>\n",
       "      <td>104.0</td>\n",
       "      <td>0.020769</td>\n",
       "    </tr>\n",
       "    <tr>\n",
       "      <th>1710</th>\n",
       "      <td>255</td>\n",
       "      <td>10</td>\n",
       "      <td>5.99</td>\n",
       "      <td>10</td>\n",
       "      <td>Математика</td>\n",
       "      <td>2023-02-18</td>\n",
       "      <td>104.0</td>\n",
       "      <td>0.057596</td>\n",
       "    </tr>\n",
       "  </tbody>\n",
       "</table>\n",
       "<p>1031 rows × 8 columns</p>\n",
       "</div>"
      ],
      "text/plain": [
       "      user_id  course_id  progress  id     subject date_started  max_score  \\\n",
       "0         392          1     31.68   1       Химия   2023-04-04      108.0   \n",
       "1         217          1     97.53   1       Химия   2023-04-04      108.0   \n",
       "2         843          1     81.50   1       Химия   2023-04-04      108.0   \n",
       "3         417          1     15.92   1       Химия   2023-04-04      108.0   \n",
       "4         605          1    103.31   1       Химия   2023-04-04      108.0   \n",
       "...       ...        ...       ...  ..         ...          ...        ...   \n",
       "1706      898         10      8.01  10  Математика   2023-02-18      104.0   \n",
       "1707      201         10      0.71  10  Математика   2023-02-18      104.0   \n",
       "1708      334         10      1.90  10  Математика   2023-02-18      104.0   \n",
       "1709      112         10      2.16  10  Математика   2023-02-18      104.0   \n",
       "1710      255         10      5.99  10  Математика   2023-02-18      104.0   \n",
       "\n",
       "      relative_progress  \n",
       "0              0.293333  \n",
       "1              0.903056  \n",
       "2              0.754630  \n",
       "3              0.147407  \n",
       "4              0.956574  \n",
       "...                 ...  \n",
       "1706           0.077019  \n",
       "1707           0.006827  \n",
       "1708           0.018269  \n",
       "1709           0.020769  \n",
       "1710           0.057596  \n",
       "\n",
       "[1031 rows x 8 columns]"
      ]
     },
     "execution_count": 152,
     "metadata": {},
     "output_type": "execute_result"
    }
   ],
   "source": [
    "final_user_students_progress"
   ]
  },
  {
   "cell_type": "code",
   "execution_count": 154,
   "id": "601ec6fa",
   "metadata": {},
   "outputs": [],
   "source": [
    "students_progress = final_user_students_progress[final_user_students_progress['relative_progress']>= 0.8]"
   ]
  },
  {
   "cell_type": "code",
   "execution_count": 155,
   "id": "aaa17918",
   "metadata": {},
   "outputs": [
    {
     "data": {
      "text/html": [
       "<div>\n",
       "<style scoped>\n",
       "    .dataframe tbody tr th:only-of-type {\n",
       "        vertical-align: middle;\n",
       "    }\n",
       "\n",
       "    .dataframe tbody tr th {\n",
       "        vertical-align: top;\n",
       "    }\n",
       "\n",
       "    .dataframe thead th {\n",
       "        text-align: right;\n",
       "    }\n",
       "</style>\n",
       "<table border=\"1\" class=\"dataframe\">\n",
       "  <thead>\n",
       "    <tr style=\"text-align: right;\">\n",
       "      <th></th>\n",
       "      <th>user_id</th>\n",
       "      <th>course_id</th>\n",
       "      <th>progress</th>\n",
       "      <th>id</th>\n",
       "      <th>subject</th>\n",
       "      <th>date_started</th>\n",
       "      <th>max_score</th>\n",
       "      <th>relative_progress</th>\n",
       "    </tr>\n",
       "  </thead>\n",
       "  <tbody>\n",
       "    <tr>\n",
       "      <th>1</th>\n",
       "      <td>217</td>\n",
       "      <td>1</td>\n",
       "      <td>97.53</td>\n",
       "      <td>1</td>\n",
       "      <td>Химия</td>\n",
       "      <td>2023-04-04</td>\n",
       "      <td>108.0</td>\n",
       "      <td>0.903056</td>\n",
       "    </tr>\n",
       "    <tr>\n",
       "      <th>4</th>\n",
       "      <td>605</td>\n",
       "      <td>1</td>\n",
       "      <td>103.31</td>\n",
       "      <td>1</td>\n",
       "      <td>Химия</td>\n",
       "      <td>2023-04-04</td>\n",
       "      <td>108.0</td>\n",
       "      <td>0.956574</td>\n",
       "    </tr>\n",
       "    <tr>\n",
       "      <th>25</th>\n",
       "      <td>720</td>\n",
       "      <td>1</td>\n",
       "      <td>105.11</td>\n",
       "      <td>1</td>\n",
       "      <td>Химия</td>\n",
       "      <td>2023-04-04</td>\n",
       "      <td>108.0</td>\n",
       "      <td>0.973241</td>\n",
       "    </tr>\n",
       "    <tr>\n",
       "      <th>28</th>\n",
       "      <td>679</td>\n",
       "      <td>1</td>\n",
       "      <td>97.80</td>\n",
       "      <td>1</td>\n",
       "      <td>Химия</td>\n",
       "      <td>2023-04-04</td>\n",
       "      <td>108.0</td>\n",
       "      <td>0.905556</td>\n",
       "    </tr>\n",
       "    <tr>\n",
       "      <th>29</th>\n",
       "      <td>364</td>\n",
       "      <td>1</td>\n",
       "      <td>92.21</td>\n",
       "      <td>1</td>\n",
       "      <td>Химия</td>\n",
       "      <td>2023-04-04</td>\n",
       "      <td>108.0</td>\n",
       "      <td>0.853796</td>\n",
       "    </tr>\n",
       "    <tr>\n",
       "      <th>...</th>\n",
       "      <td>...</td>\n",
       "      <td>...</td>\n",
       "      <td>...</td>\n",
       "      <td>...</td>\n",
       "      <td>...</td>\n",
       "      <td>...</td>\n",
       "      <td>...</td>\n",
       "      <td>...</td>\n",
       "    </tr>\n",
       "    <tr>\n",
       "      <th>1690</th>\n",
       "      <td>768</td>\n",
       "      <td>10</td>\n",
       "      <td>98.52</td>\n",
       "      <td>10</td>\n",
       "      <td>Математика</td>\n",
       "      <td>2023-02-18</td>\n",
       "      <td>104.0</td>\n",
       "      <td>0.947308</td>\n",
       "    </tr>\n",
       "    <tr>\n",
       "      <th>1691</th>\n",
       "      <td>169</td>\n",
       "      <td>10</td>\n",
       "      <td>94.64</td>\n",
       "      <td>10</td>\n",
       "      <td>Математика</td>\n",
       "      <td>2023-02-18</td>\n",
       "      <td>104.0</td>\n",
       "      <td>0.910000</td>\n",
       "    </tr>\n",
       "    <tr>\n",
       "      <th>1696</th>\n",
       "      <td>46</td>\n",
       "      <td>10</td>\n",
       "      <td>84.48</td>\n",
       "      <td>10</td>\n",
       "      <td>Математика</td>\n",
       "      <td>2023-02-18</td>\n",
       "      <td>104.0</td>\n",
       "      <td>0.812308</td>\n",
       "    </tr>\n",
       "    <tr>\n",
       "      <th>1697</th>\n",
       "      <td>254</td>\n",
       "      <td>10</td>\n",
       "      <td>100.76</td>\n",
       "      <td>10</td>\n",
       "      <td>Математика</td>\n",
       "      <td>2023-02-18</td>\n",
       "      <td>104.0</td>\n",
       "      <td>0.968846</td>\n",
       "    </tr>\n",
       "    <tr>\n",
       "      <th>1700</th>\n",
       "      <td>802</td>\n",
       "      <td>10</td>\n",
       "      <td>101.47</td>\n",
       "      <td>10</td>\n",
       "      <td>Математика</td>\n",
       "      <td>2023-02-18</td>\n",
       "      <td>104.0</td>\n",
       "      <td>0.975673</td>\n",
       "    </tr>\n",
       "  </tbody>\n",
       "</table>\n",
       "<p>159 rows × 8 columns</p>\n",
       "</div>"
      ],
      "text/plain": [
       "      user_id  course_id  progress  id     subject date_started  max_score  \\\n",
       "1         217          1     97.53   1       Химия   2023-04-04      108.0   \n",
       "4         605          1    103.31   1       Химия   2023-04-04      108.0   \n",
       "25        720          1    105.11   1       Химия   2023-04-04      108.0   \n",
       "28        679          1     97.80   1       Химия   2023-04-04      108.0   \n",
       "29        364          1     92.21   1       Химия   2023-04-04      108.0   \n",
       "...       ...        ...       ...  ..         ...          ...        ...   \n",
       "1690      768         10     98.52  10  Математика   2023-02-18      104.0   \n",
       "1691      169         10     94.64  10  Математика   2023-02-18      104.0   \n",
       "1696       46         10     84.48  10  Математика   2023-02-18      104.0   \n",
       "1697      254         10    100.76  10  Математика   2023-02-18      104.0   \n",
       "1700      802         10    101.47  10  Математика   2023-02-18      104.0   \n",
       "\n",
       "      relative_progress  \n",
       "1              0.903056  \n",
       "4              0.956574  \n",
       "25             0.973241  \n",
       "28             0.905556  \n",
       "29             0.853796  \n",
       "...                 ...  \n",
       "1690           0.947308  \n",
       "1691           0.910000  \n",
       "1696           0.812308  \n",
       "1697           0.968846  \n",
       "1700           0.975673  \n",
       "\n",
       "[159 rows x 8 columns]"
      ]
     },
     "execution_count": 155,
     "metadata": {},
     "output_type": "execute_result"
    }
   ],
   "source": [
    "students_progress"
   ]
  },
  {
   "cell_type": "code",
   "execution_count": 175,
   "id": "b3f43406",
   "metadata": {},
   "outputs": [],
   "source": [
    "info_subjects = students_progress.groupby('subject', as_index=False).agg({'user_id': len})"
   ]
  },
  {
   "cell_type": "code",
   "execution_count": 172,
   "id": "c9c19832",
   "metadata": {},
   "outputs": [
    {
     "data": {
      "text/plain": [
       "105"
      ]
     },
     "execution_count": 172,
     "metadata": {},
     "output_type": "execute_result"
    }
   ],
   "source": [
    "(students_progress['subject'] == 'Химия').sum()"
   ]
  },
  {
   "cell_type": "code",
   "execution_count": 176,
   "id": "095109eb",
   "metadata": {},
   "outputs": [
    {
     "data": {
      "text/html": [
       "<div>\n",
       "<style scoped>\n",
       "    .dataframe tbody tr th:only-of-type {\n",
       "        vertical-align: middle;\n",
       "    }\n",
       "\n",
       "    .dataframe tbody tr th {\n",
       "        vertical-align: top;\n",
       "    }\n",
       "\n",
       "    .dataframe thead th {\n",
       "        text-align: right;\n",
       "    }\n",
       "</style>\n",
       "<table border=\"1\" class=\"dataframe\">\n",
       "  <thead>\n",
       "    <tr style=\"text-align: right;\">\n",
       "      <th></th>\n",
       "      <th>subject</th>\n",
       "      <th>user_id</th>\n",
       "    </tr>\n",
       "  </thead>\n",
       "  <tbody>\n",
       "    <tr>\n",
       "      <th>0</th>\n",
       "      <td>Математика</td>\n",
       "      <td>30</td>\n",
       "    </tr>\n",
       "    <tr>\n",
       "      <th>1</th>\n",
       "      <td>Физика</td>\n",
       "      <td>24</td>\n",
       "    </tr>\n",
       "    <tr>\n",
       "      <th>2</th>\n",
       "      <td>Химия</td>\n",
       "      <td>105</td>\n",
       "    </tr>\n",
       "  </tbody>\n",
       "</table>\n",
       "</div>"
      ],
      "text/plain": [
       "      subject  user_id\n",
       "0  Математика       30\n",
       "1      Физика       24\n",
       "2       Химия      105"
      ]
     },
     "execution_count": 176,
     "metadata": {},
     "output_type": "execute_result"
    }
   ],
   "source": [
    "info_subjects"
   ]
  },
  {
   "cell_type": "code",
   "execution_count": null,
   "id": "fae5edd3",
   "metadata": {},
   "outputs": [],
   "source": [
    "def modify_columns_solution(df, column_to_drop, column_to_change):\n",
    "    return df.assign(new = column_to_change + 1).drop(column_to_drop).rename(columns = {'column_to_change': 'renamed'})"
   ]
  },
  {
   "cell_type": "code",
   "execution_count": 167,
   "id": "b38de4b9",
   "metadata": {},
   "outputs": [
    {
     "data": {
      "text/plain": [
       "0    [466, 654, 734, 395, 650, 116, 547, 954, 662, ...\n",
       "1    [498, 857, 547, 31, 495, 22, 664, 682, 53, 528...\n",
       "2    [217, 605, 720, 679, 364, 431, 495, 697, 570, ...\n",
       "Name: user_id, dtype: object"
      ]
     },
     "execution_count": 167,
     "metadata": {},
     "output_type": "execute_result"
    }
   ],
   "source": [
    "info_subjects['user_id']"
   ]
  },
  {
   "cell_type": "markdown",
   "id": "33916891",
   "metadata": {},
   "source": [
    "**Относительным прогрессом** будем называть отношение суммарного числа баллов, которые ученик набрал за курс (колонка `progress` в таблице `user_course_progress`), к максимальному количеству баллов, которые ученик в принципе мог набрать за данный курс (колонка `max_progress` в таблице `course`).\n",
    "\n",
    "С помощью представленных данных найдите ответ на следующий вопрос: в курсах какого предмета больше всего учеников, чей относительный прогресс не меньше $0.8$?\n",
    "\n",
    "В рамках следующих заданий вам будет предложено, действуя поэтапно, найти ответ на этот вопрос."
   ]
  },
  {
   "cell_type": "markdown",
   "id": "0b282053",
   "metadata": {},
   "source": [
    "### Задание 1"
   ]
  },
  {
   "cell_type": "markdown",
   "id": "56f4ef8c",
   "metadata": {},
   "source": [
    "Произведите соединение таблиц `course` и `user_course_progress`.\n",
    "\n",
    "В качестве ответа укажите количество строчек итоговой таблицы, в которых представлены ученики курсов по химии."
   ]
  },
  {
   "cell_type": "markdown",
   "id": "5f7122c8",
   "metadata": {},
   "source": [
    "### Задание 2"
   ]
  },
  {
   "cell_type": "markdown",
   "id": "6ebe3997",
   "metadata": {},
   "source": [
    "Обратите внимание, что у части курсов нет значения в колонке `max_score`. Уберите из полученной в предыдущем задании таблицы все строчки, в которых пропущено значение колонки `max_score`.\n",
    "\n",
    "В качестве ответа укажите количество строчек в итоговой таблице."
   ]
  },
  {
   "cell_type": "markdown",
   "id": "2e7a3487",
   "metadata": {},
   "source": [
    "### Задание 3"
   ]
  },
  {
   "cell_type": "markdown",
   "id": "7b9fe5e3",
   "metadata": {},
   "source": [
    "Добавьте в полученную в предыдущем задании таблицу колонку `relative_progress`, в которой для каждого ученика будет храниться значение его относительного прогресса в конкретном курсе.\n",
    "\n",
    "В качестве ответа укажите среднее значение относительного прогресса в таблице. Ответ округлите до двух знаков после запятой с помощью функции `round`, которая встроена в Series."
   ]
  },
  {
   "cell_type": "markdown",
   "id": "f2f2e646",
   "metadata": {},
   "source": [
    "### Задание 4"
   ]
  },
  {
   "cell_type": "markdown",
   "id": "f066617d",
   "metadata": {},
   "source": [
    "Оставьте в полученной в предыдущем задании таблице только те строчки, в которых значение относительного прогресса не меньше $0.8$.\n",
    "\n",
    "В качестве ответа укажите число строчек в получившейся таблице."
   ]
  },
  {
   "cell_type": "markdown",
   "id": "0da39496",
   "metadata": {},
   "source": [
    "### Задание 5"
   ]
  },
  {
   "cell_type": "markdown",
   "id": "e6730f75",
   "metadata": {},
   "source": [
    "Произведите группировку строчек таблицы по предметам и посчитайте, сколько учеников с относительным прогрессом не меньше $0.8$ оказалось в каждом из предметов.\n",
    "\n",
    "В качестве ответа заполните таблицу, в которой каждому предмету сопоставлено число таких учеников.\n",
    "\n",
    "Если один и тот же ученик учился в разных курсах одного и того же предмета и в каждом из этих курсов достиг относительного прогресса не менее $0.8$, при подсчёте учтите его несколько раз."
   ]
  },
  {
   "cell_type": "markdown",
   "id": "d87b4850",
   "metadata": {},
   "source": [
    "### Задание 6"
   ]
  },
  {
   "cell_type": "markdown",
   "id": "4500b2c0",
   "metadata": {},
   "source": [
    "В курсах какого предмета больше всего учеников, достигших относительного прогресса не менее $0.8$?"
   ]
  }
 ],
 "metadata": {
  "kernelspec": {
   "display_name": "Python 3",
   "language": "python",
   "name": "python3"
  },
  "language_info": {
   "codemirror_mode": {
    "name": "ipython",
    "version": 3
   },
   "file_extension": ".py",
   "mimetype": "text/x-python",
   "name": "python",
   "nbconvert_exporter": "python",
   "pygments_lexer": "ipython3",
   "version": "3.11.7"
  }
 },
 "nbformat": 4,
 "nbformat_minor": 5
}
