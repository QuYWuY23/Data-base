{
 "cells": [
  {
   "cell_type": "code",
   "execution_count": 2,
   "id": "4d5b85fd",
   "metadata": {},
   "outputs": [],
   "source": [
    "import pandas as pd"
   ]
  },
  {
   "cell_type": "code",
   "execution_count": 65,
   "id": "1ea6aa7c",
   "metadata": {},
   "outputs": [],
   "source": [
    "def custom_compare(x, y):\n",
    "    if str(x) != str(y):\n",
    "        raise RuntimeError(f'Ожидаемое значение: {y}. Фактическое: {x}')"
   ]
  },
  {
   "cell_type": "markdown",
   "id": "1e9486f6",
   "metadata": {},
   "source": [
    "# Предобработка данных"
   ]
  },
  {
   "cell_type": "code",
   "execution_count": 56,
   "id": "e2937d41",
   "metadata": {},
   "outputs": [],
   "source": [
    "def parse_user_action_solution(line):\n",
    "    \"\"\"\n",
    "    Принимает строку в обозначенном формате, а возвращает словарь.\n",
    "    Ключами в словаре являются строки 'id', 'action' и 'time',\n",
    "    а значениями — соответствующие ключам значения из обрабатываемой строки.\n",
    "    \n",
    "    Аргументы:\n",
    "        line: Строка, которую необходимо превратить в словарь.\n",
    "        \n",
    "    Возвращаемое значение:\n",
    "        Словарь в обозначенном формате.\n",
    "    \"\"\"\n",
    "    \n",
    "    diction = {'id': None,'action': None,'time': None} \n",
    "    line = line.strip('()')\n",
    "    split_line = str.split(line, ',')\n",
    "    diction['id'] = int(str.split(split_line[0], ':')[1].strip())\n",
    "    diction['action'] = str.split(split_line[1], ':')[1].strip(\" ''\")\n",
    "    diction['time'] = pd.to_datetime(str.split(split_line[2], \"'\")[3], format = \"%Y-%m-%d %H:%M:%S\")\n",
    "    return diction"
   ]
  },
  {
   "cell_type": "code",
   "execution_count": 58,
   "id": "b68d15fa",
   "metadata": {},
   "outputs": [],
   "source": [
    "line = \"('id': 1, 'action': 'search', 'time': '1997-12-31 23:23:59')\""
   ]
  },
  {
   "cell_type": "code",
   "execution_count": 62,
   "id": "7984323d",
   "metadata": {},
   "outputs": [
    {
     "data": {
      "text/plain": [
       "{'id': 1, 'action': 'search', 'time': Timestamp('1997-12-31 23:23:59')}"
      ]
     },
     "execution_count": 62,
     "metadata": {},
     "output_type": "execute_result"
    }
   ],
   "source": [
    "parse_user_action_solution(line)"
   ]
  },
  {
   "cell_type": "code",
   "execution_count": 59,
   "id": "749cd34b",
   "metadata": {},
   "outputs": [
    {
     "name": "stdout",
     "output_type": "stream",
     "text": [
      "[\"'id': 1\", \" 'action': 'search'\", \" 'time': '1997-12-31 23:23:59'\"]\n",
      "1\n",
      "search\n"
     ]
    },
    {
     "data": {
      "text/plain": [
       "Timestamp('1997-12-31 23:23:59')"
      ]
     },
     "execution_count": 59,
     "metadata": {},
     "output_type": "execute_result"
    }
   ],
   "source": [
    "convert_line = line.strip('()')\n",
    "split_line = str.split(convert_line, ',')\n",
    "print(split_line)\n",
    "print(str.split(split_line[0], ':')[1].strip())\n",
    "print(str.split(split_line[1], ':')[1].strip(\" ''\"))\n",
    "#print(pd.to_datetime(str.split(split_line[2], ':')[1]))\n",
    "#print(convert_line)\n",
    "time = pd.to_datetime(str.split(split_line[2], \"'\")[3], format = \"%Y-%m-%d %H:%M:%S\")\n",
    "time"
   ]
  },
  {
   "cell_type": "code",
   "execution_count": 60,
   "id": "356995a5",
   "metadata": {},
   "outputs": [
    {
     "data": {
      "text/plain": [
       "{'id': 1, 'action': 'search', 'time': Timestamp('1997-12-31 23:23:59')}"
      ]
     },
     "execution_count": 60,
     "metadata": {},
     "output_type": "execute_result"
    }
   ],
   "source": [
    "diction = {'id': None,'action': None,'time': None}\n",
    "diction['id'] = int(str.split(split_line[0], ':')[1].strip())\n",
    "diction['action'] = str.split(split_line[1], ':')[1].strip(\" ''\")\n",
    "diction['time'] = time\n",
    "diction"
   ]
  },
  {
   "cell_type": "code",
   "execution_count": 63,
   "id": "b70ea4a2",
   "metadata": {},
   "outputs": [],
   "source": [
    "def parse_user_action_test():\n",
    "    example_1_line = \"('id': 7281910, 'action': 'click', 'time': '2023-01-01 12:23:54')\"\n",
    "    example_1_res = {\n",
    "        'id': 7281910,\n",
    "        'action': 'click',\n",
    "        'time': pd.Timestamp(year=2023, month=1, day=1, hour=12, minute=23, second=54),\n",
    "    }\n",
    "    \n",
    "    custom_compare(parse_user_action_solution(example_1_line), example_1_res)\n",
    "    \n",
    "    example_2_line = \"('id': 1, 'action': 'search', 'time': '1997-12-31 23:23:59')\"\n",
    "    example_2_res = {\n",
    "        'id': 1,\n",
    "        'action': 'search',\n",
    "        'time': pd.Timestamp(year=1997, month=12, day=31, hour=23, minute=23, second=59),\n",
    "    }\n",
    "    \n",
    "    custom_compare(parse_user_action_solution(example_2_line), example_2_res)\n",
    "    \n",
    "    print('Все тесты прошли успешно!')"
   ]
  },
  {
   "cell_type": "code",
   "execution_count": 66,
   "id": "9cc87fd3",
   "metadata": {},
   "outputs": [
    {
     "name": "stdout",
     "output_type": "stream",
     "text": [
      "Все тесты прошли успешно!\n"
     ]
    }
   ],
   "source": [
    "parse_user_action_test()"
   ]
  },
  {
   "cell_type": "markdown",
   "id": "f8d806b9",
   "metadata": {},
   "source": [
    "# Предобработка данных в pandas"
   ]
  },
  {
   "cell_type": "code",
   "execution_count": 76,
   "id": "e6e2ca85",
   "metadata": {},
   "outputs": [],
   "source": [
    "import json"
   ]
  },
  {
   "cell_type": "code",
   "execution_count": 67,
   "id": "66c6008b",
   "metadata": {},
   "outputs": [],
   "source": [
    "user_session = pd.read_csv('user_session_sample.csv')"
   ]
  },
  {
   "cell_type": "code",
   "execution_count": 68,
   "id": "ec7067a8",
   "metadata": {},
   "outputs": [
    {
     "data": {
      "text/html": [
       "<div>\n",
       "<style scoped>\n",
       "    .dataframe tbody tr th:only-of-type {\n",
       "        vertical-align: middle;\n",
       "    }\n",
       "\n",
       "    .dataframe tbody tr th {\n",
       "        vertical-align: top;\n",
       "    }\n",
       "\n",
       "    .dataframe thead th {\n",
       "        text-align: right;\n",
       "    }\n",
       "</style>\n",
       "<table border=\"1\" class=\"dataframe\">\n",
       "  <thead>\n",
       "    <tr style=\"text-align: right;\">\n",
       "      <th></th>\n",
       "      <th>id</th>\n",
       "      <th>user_id</th>\n",
       "      <th>ip</th>\n",
       "      <th>action_time</th>\n",
       "      <th>action</th>\n",
       "    </tr>\n",
       "  </thead>\n",
       "  <tbody>\n",
       "    <tr>\n",
       "      <th>0</th>\n",
       "      <td>619</td>\n",
       "      <td>NaN</td>\n",
       "      <td>244.143.138.0</td>\n",
       "      <td>2021-01-20 18:36:32</td>\n",
       "      <td>('id': 234676, 'action': 'search', 'time': '20...</td>\n",
       "    </tr>\n",
       "    <tr>\n",
       "      <th>1</th>\n",
       "      <td>919428</td>\n",
       "      <td>30083.0</td>\n",
       "      <td>157.169.233.89</td>\n",
       "      <td>2023-12-10 04:13:50</td>\n",
       "      <td>('id': 541654, 'action': 'search', 'time': '20...</td>\n",
       "    </tr>\n",
       "    <tr>\n",
       "      <th>2</th>\n",
       "      <td>630539</td>\n",
       "      <td>NaN</td>\n",
       "      <td>160.111.52.224</td>\n",
       "      <td>2023-09-26 04:09:44</td>\n",
       "      <td>('id': 230556, 'action': 'click', 'time': '202...</td>\n",
       "    </tr>\n",
       "    <tr>\n",
       "      <th>3</th>\n",
       "      <td>963478</td>\n",
       "      <td>NaN</td>\n",
       "      <td>247.14.235.202</td>\n",
       "      <td>2023-12-19 21:02:47</td>\n",
       "      <td>('id': 838067, 'action': 'click', 'time': '202...</td>\n",
       "    </tr>\n",
       "    <tr>\n",
       "      <th>4</th>\n",
       "      <td>421566</td>\n",
       "      <td>NaN</td>\n",
       "      <td>255.2.67.154</td>\n",
       "      <td>2023-07-20 16:04:14</td>\n",
       "      <td>('id': 924754, 'action': 'search', 'time': '20...</td>\n",
       "    </tr>\n",
       "  </tbody>\n",
       "</table>\n",
       "</div>"
      ],
      "text/plain": [
       "       id  user_id              ip          action_time  \\\n",
       "0     619      NaN   244.143.138.0  2021-01-20 18:36:32   \n",
       "1  919428  30083.0  157.169.233.89  2023-12-10 04:13:50   \n",
       "2  630539      NaN  160.111.52.224  2023-09-26 04:09:44   \n",
       "3  963478      NaN  247.14.235.202  2023-12-19 21:02:47   \n",
       "4  421566      NaN    255.2.67.154  2023-07-20 16:04:14   \n",
       "\n",
       "                                              action  \n",
       "0  ('id': 234676, 'action': 'search', 'time': '20...  \n",
       "1  ('id': 541654, 'action': 'search', 'time': '20...  \n",
       "2  ('id': 230556, 'action': 'click', 'time': '202...  \n",
       "3  ('id': 838067, 'action': 'click', 'time': '202...  \n",
       "4  ('id': 924754, 'action': 'search', 'time': '20...  "
      ]
     },
     "execution_count": 68,
     "metadata": {},
     "output_type": "execute_result"
    }
   ],
   "source": [
    "user_session.head()"
   ]
  },
  {
   "cell_type": "code",
   "execution_count": 70,
   "id": "56fb129a",
   "metadata": {},
   "outputs": [
    {
     "data": {
      "text/plain": [
       "id                 0\n",
       "user_id        66371\n",
       "ip                 0\n",
       "action_time    13922\n",
       "action             0\n",
       "dtype: int64"
      ]
     },
     "execution_count": 70,
     "metadata": {},
     "output_type": "execute_result"
    }
   ],
   "source": [
    "user_session.isna().sum()"
   ]
  },
  {
   "cell_type": "code",
   "execution_count": 73,
   "id": "648b665a",
   "metadata": {},
   "outputs": [
    {
     "data": {
      "text/plain": [
       "id               int64\n",
       "user_id        float64\n",
       "ip              object\n",
       "action_time     object\n",
       "action          object\n",
       "dtype: object"
      ]
     },
     "execution_count": 73,
     "metadata": {},
     "output_type": "execute_result"
    }
   ],
   "source": [
    "user_session.dtypes"
   ]
  },
  {
   "cell_type": "code",
   "execution_count": 74,
   "id": "3c8aa70a",
   "metadata": {},
   "outputs": [],
   "source": [
    "user_session['action_time'] = pd.to_datetime(user_session['action_time'])"
   ]
  },
  {
   "cell_type": "code",
   "execution_count": 86,
   "id": "be8e2e7e",
   "metadata": {},
   "outputs": [
    {
     "data": {
      "text/plain": [
       "{'id': 234676, 'action': 'search', 'time': Timestamp('2021-01-20 18:36:32')}"
      ]
     },
     "execution_count": 86,
     "metadata": {},
     "output_type": "execute_result"
    }
   ],
   "source": [
    "parse_user_action_solution(user_session['action'][0])"
   ]
  },
  {
   "cell_type": "code",
   "execution_count": 91,
   "id": "394ad85c",
   "metadata": {},
   "outputs": [],
   "source": [
    "user_session['action'] = user_session['action'].apply(parse_user_action_solution)"
   ]
  },
  {
   "cell_type": "code",
   "execution_count": 100,
   "id": "09750413",
   "metadata": {},
   "outputs": [
    {
     "data": {
      "text/plain": [
       "{'id': 234676, 'action': 'search', 'time': Timestamp('2021-01-20 18:36:32')}"
      ]
     },
     "execution_count": 100,
     "metadata": {},
     "output_type": "execute_result"
    }
   ],
   "source": [
    "user_session['action'][0]"
   ]
  },
  {
   "cell_type": "code",
   "execution_count": 109,
   "id": "6d52737d",
   "metadata": {},
   "outputs": [],
   "source": [
    "user_session['action_time'] = user_session['action'].apply(lambda x: x['time'])"
   ]
  },
  {
   "cell_type": "code",
   "execution_count": 110,
   "id": "4f66b2b0",
   "metadata": {},
   "outputs": [
    {
     "data": {
      "text/html": [
       "<div>\n",
       "<style scoped>\n",
       "    .dataframe tbody tr th:only-of-type {\n",
       "        vertical-align: middle;\n",
       "    }\n",
       "\n",
       "    .dataframe tbody tr th {\n",
       "        vertical-align: top;\n",
       "    }\n",
       "\n",
       "    .dataframe thead th {\n",
       "        text-align: right;\n",
       "    }\n",
       "</style>\n",
       "<table border=\"1\" class=\"dataframe\">\n",
       "  <thead>\n",
       "    <tr style=\"text-align: right;\">\n",
       "      <th></th>\n",
       "      <th>id</th>\n",
       "      <th>user_id</th>\n",
       "      <th>ip</th>\n",
       "      <th>action_time</th>\n",
       "      <th>action</th>\n",
       "      <th>time</th>\n",
       "    </tr>\n",
       "  </thead>\n",
       "  <tbody>\n",
       "    <tr>\n",
       "      <th>0</th>\n",
       "      <td>619</td>\n",
       "      <td>NaN</td>\n",
       "      <td>244.143.138.0</td>\n",
       "      <td>2021-01-20 18:36:32</td>\n",
       "      <td>{'id': 234676, 'action': 'search', 'time': 202...</td>\n",
       "      <td>2021-01-20 18:36:32</td>\n",
       "    </tr>\n",
       "    <tr>\n",
       "      <th>1</th>\n",
       "      <td>919428</td>\n",
       "      <td>30083.0</td>\n",
       "      <td>157.169.233.89</td>\n",
       "      <td>2023-12-10 04:13:50</td>\n",
       "      <td>{'id': 541654, 'action': 'search', 'time': 202...</td>\n",
       "      <td>2023-12-10 04:13:50</td>\n",
       "    </tr>\n",
       "    <tr>\n",
       "      <th>2</th>\n",
       "      <td>630539</td>\n",
       "      <td>NaN</td>\n",
       "      <td>160.111.52.224</td>\n",
       "      <td>2023-09-26 04:09:44</td>\n",
       "      <td>{'id': 230556, 'action': 'click', 'time': 2023...</td>\n",
       "      <td>2023-09-26 04:09:44</td>\n",
       "    </tr>\n",
       "    <tr>\n",
       "      <th>3</th>\n",
       "      <td>963478</td>\n",
       "      <td>NaN</td>\n",
       "      <td>247.14.235.202</td>\n",
       "      <td>2023-12-19 21:02:47</td>\n",
       "      <td>{'id': 838067, 'action': 'click', 'time': 2023...</td>\n",
       "      <td>2023-12-19 21:02:47</td>\n",
       "    </tr>\n",
       "    <tr>\n",
       "      <th>4</th>\n",
       "      <td>421566</td>\n",
       "      <td>NaN</td>\n",
       "      <td>255.2.67.154</td>\n",
       "      <td>2023-07-20 16:04:14</td>\n",
       "      <td>{'id': 924754, 'action': 'search', 'time': 202...</td>\n",
       "      <td>2023-07-20 16:04:14</td>\n",
       "    </tr>\n",
       "    <tr>\n",
       "      <th>...</th>\n",
       "      <td>...</td>\n",
       "      <td>...</td>\n",
       "      <td>...</td>\n",
       "      <td>...</td>\n",
       "      <td>...</td>\n",
       "      <td>...</td>\n",
       "    </tr>\n",
       "    <tr>\n",
       "      <th>100256</th>\n",
       "      <td>787682</td>\n",
       "      <td>NaN</td>\n",
       "      <td>235.213.10.189</td>\n",
       "      <td>2023-11-08 03:26:14</td>\n",
       "      <td>{'id': 611537, 'action': 'click', 'time': 2023...</td>\n",
       "      <td>2023-11-08 03:26:14</td>\n",
       "    </tr>\n",
       "    <tr>\n",
       "      <th>100257</th>\n",
       "      <td>467742</td>\n",
       "      <td>95044.0</td>\n",
       "      <td>11.197.24.55</td>\n",
       "      <td>2023-08-07 18:09:05</td>\n",
       "      <td>{'id': 105315, 'action': 'search', 'time': 202...</td>\n",
       "      <td>2023-08-07 18:09:05</td>\n",
       "    </tr>\n",
       "    <tr>\n",
       "      <th>100258</th>\n",
       "      <td>756486</td>\n",
       "      <td>NaN</td>\n",
       "      <td>25.201.68.226</td>\n",
       "      <td>2023-10-30 11:55:48</td>\n",
       "      <td>{'id': 736403, 'action': 'search', 'time': 202...</td>\n",
       "      <td>2023-10-30 11:55:48</td>\n",
       "    </tr>\n",
       "    <tr>\n",
       "      <th>100259</th>\n",
       "      <td>585901</td>\n",
       "      <td>NaN</td>\n",
       "      <td>185.35.134.140</td>\n",
       "      <td>2023-09-14 19:06:45</td>\n",
       "      <td>{'id': 614891, 'action': 'search', 'time': 202...</td>\n",
       "      <td>2023-09-14 19:06:45</td>\n",
       "    </tr>\n",
       "    <tr>\n",
       "      <th>100260</th>\n",
       "      <td>698800</td>\n",
       "      <td>77851.0</td>\n",
       "      <td>12.90.148.105</td>\n",
       "      <td>2023-10-14 05:17:23</td>\n",
       "      <td>{'id': 145174, 'action': 'search', 'time': 202...</td>\n",
       "      <td>2023-10-14 05:17:23</td>\n",
       "    </tr>\n",
       "  </tbody>\n",
       "</table>\n",
       "<p>100261 rows × 6 columns</p>\n",
       "</div>"
      ],
      "text/plain": [
       "            id  user_id              ip         action_time  \\\n",
       "0          619      NaN   244.143.138.0 2021-01-20 18:36:32   \n",
       "1       919428  30083.0  157.169.233.89 2023-12-10 04:13:50   \n",
       "2       630539      NaN  160.111.52.224 2023-09-26 04:09:44   \n",
       "3       963478      NaN  247.14.235.202 2023-12-19 21:02:47   \n",
       "4       421566      NaN    255.2.67.154 2023-07-20 16:04:14   \n",
       "...        ...      ...             ...                 ...   \n",
       "100256  787682      NaN  235.213.10.189 2023-11-08 03:26:14   \n",
       "100257  467742  95044.0    11.197.24.55 2023-08-07 18:09:05   \n",
       "100258  756486      NaN   25.201.68.226 2023-10-30 11:55:48   \n",
       "100259  585901      NaN  185.35.134.140 2023-09-14 19:06:45   \n",
       "100260  698800  77851.0   12.90.148.105 2023-10-14 05:17:23   \n",
       "\n",
       "                                                   action                time  \n",
       "0       {'id': 234676, 'action': 'search', 'time': 202... 2021-01-20 18:36:32  \n",
       "1       {'id': 541654, 'action': 'search', 'time': 202... 2023-12-10 04:13:50  \n",
       "2       {'id': 230556, 'action': 'click', 'time': 2023... 2023-09-26 04:09:44  \n",
       "3       {'id': 838067, 'action': 'click', 'time': 2023... 2023-12-19 21:02:47  \n",
       "4       {'id': 924754, 'action': 'search', 'time': 202... 2023-07-20 16:04:14  \n",
       "...                                                   ...                 ...  \n",
       "100256  {'id': 611537, 'action': 'click', 'time': 2023... 2023-11-08 03:26:14  \n",
       "100257  {'id': 105315, 'action': 'search', 'time': 202... 2023-08-07 18:09:05  \n",
       "100258  {'id': 736403, 'action': 'search', 'time': 202... 2023-10-30 11:55:48  \n",
       "100259  {'id': 614891, 'action': 'search', 'time': 202... 2023-09-14 19:06:45  \n",
       "100260  {'id': 145174, 'action': 'search', 'time': 202... 2023-10-14 05:17:23  \n",
       "\n",
       "[100261 rows x 6 columns]"
      ]
     },
     "execution_count": 110,
     "metadata": {},
     "output_type": "execute_result"
    }
   ],
   "source": [
    "user_session"
   ]
  },
  {
   "cell_type": "code",
   "execution_count": 189,
   "id": "6052eb36",
   "metadata": {},
   "outputs": [
    {
     "data": {
      "text/plain": [
       "8395"
      ]
     },
     "execution_count": 189,
     "metadata": {},
     "output_type": "execute_result"
    }
   ],
   "source": [
    "((user_session['action_time'].dt.year == 2023) & (user_session['action_time'].dt.month == 8)).sum()"
   ]
  },
  {
   "cell_type": "markdown",
   "id": "84e62448",
   "metadata": {},
   "source": [
    "## Задание 1"
   ]
  },
  {
   "cell_type": "markdown",
   "id": "bb2f2d07",
   "metadata": {},
   "source": [
    "Подсчитайте, сколько пропущенных значений содержится в каждой из колонок таблицы."
   ]
  },
  {
   "cell_type": "markdown",
   "id": "2323ece1",
   "metadata": {},
   "source": [
    "## Задание 2"
   ]
  },
  {
   "cell_type": "markdown",
   "id": "5e9d6165",
   "metadata": {},
   "source": [
    "Известно, что значение в колонке «action_time» должно совпадать со значением `action_time`, которое хранится внутри значений характеристики «action».\n",
    "\n",
    "Воспользуйтесь реализованной ранее функцией `parse_user_action_solution`, чтобы восстановить на основе значений из колонки «action» отсутствующую информацию о моментах времени, когда пользователи совершали соответствующие действия.\n",
    "\n",
    "В качестве ответа укажите число пользовательских действий, которые были совершены в августе 2023-го года, рассчитанное по таблице с восстановленными данными."
   ]
  },
  {
   "cell_type": "markdown",
   "id": "931f1b70",
   "metadata": {},
   "source": [
    "# Исследование данных"
   ]
  },
  {
   "cell_type": "markdown",
   "id": "ef87dc16",
   "metadata": {},
   "source": [
    "## Задание 1"
   ]
  },
  {
   "cell_type": "code",
   "execution_count": 118,
   "id": "59169a78",
   "metadata": {},
   "outputs": [],
   "source": [
    "def round_to_2(x):\n",
    "    \"\"\"\n",
    "    Принимает число и возвращает результат его округления\n",
    "    до 2 знаков после запятой.\n",
    "    \n",
    "    Аргументы:\n",
    "        x: Число.\n",
    "        \n",
    "    Возвращаемое значение:\n",
    "        Результат округления числа до 2 знаков после запятой.\n",
    "    \"\"\"\n",
    "    \n",
    "    return round(x, 2)"
   ]
  },
  {
   "cell_type": "code",
   "execution_count": 119,
   "id": "e6bc9bf2",
   "metadata": {},
   "outputs": [],
   "source": [
    "def get_sessions(action_times, max_delta=40 * 60):\n",
    "    \"\"\"\n",
    "    Разбивает список моментов времени, когда пользователь проявлял активность,\n",
    "    на пользовательские сессии. \n",
    "    \n",
    "    Аргументы:\n",
    "        action_times: Список моментов времени, когда пользователь проявлял активность.\n",
    "                      Гарантируется, что моменты времени упорядочены в порядке возрастания.\n",
    "           max_delta: Максимальное значение (в секундах) промежутка между двумя активностями пользователя,\n",
    "                      при котором они считаются относящимися к одной сессии.\n",
    "                      \n",
    "    Возвращаемое значение:\n",
    "        Список пользовательских сессий. Каждая сессия представляется упорядоченным по возрастанию\n",
    "        списком моментов времени для действий, которые были совершены в эту сессию.\n",
    "    \"\"\"\n",
    "    \n",
    "    sessions = []\n",
    "    cur_session = []\n",
    "    \n",
    "    prev_time = None\n",
    "    \n",
    "    for time in action_times:\n",
    "        if prev_time is None or (time - prev_time).total_seconds() > max_delta:\n",
    "            if len(cur_session) > 0:\n",
    "                sessions.append(cur_session)\n",
    "                \n",
    "            cur_session = [time]\n",
    "        else:\n",
    "            cur_session.append(time)\n",
    "            \n",
    "        prev_time = time\n",
    "        \n",
    "    sessions.append(cur_session)\n",
    "    \n",
    "    return sessions"
   ]
  },
  {
   "cell_type": "code",
   "execution_count": 120,
   "id": "041dbdbb",
   "metadata": {},
   "outputs": [],
   "source": [
    "from datetime import datetime\n",
    "action_times = [\n",
    "    datetime(2023, 10, 1, 12, 0, 0),\n",
    "    datetime(2023, 10, 1, 12, 5, 0),\n",
    "    datetime(2023, 10, 1, 12, 10, 0),\n",
    "    datetime(2023, 10, 1, 12, 55, 0),  # Пробел больше max_delta\n",
    "    datetime(2023, 10, 1, 13, 0, 0),\n",
    "]"
   ]
  },
  {
   "cell_type": "code",
   "execution_count": null,
   "id": "ff81d30e",
   "metadata": {},
   "outputs": [
    {
     "name": "stdout",
     "output_type": "stream",
     "text": [
      "[datetime.datetime(2023, 10, 1, 12, 0), datetime.datetime(2023, 10, 1, 12, 5), datetime.datetime(2023, 10, 1, 12, 10)]\n",
      "[datetime.datetime(2023, 10, 1, 12, 55), datetime.datetime(2023, 10, 1, 13, 0)]\n"
     ]
    },
    {
     "data": {
      "text/plain": [
       "datetime.timedelta(seconds=300)"
      ]
     },
     "execution_count": 201,
     "metadata": {},
     "output_type": "execute_result"
    }
   ],
   "source": [
    "sessions = get_sessions(action_times)\n",
    "for num in range(len(sessions)):\n",
    "    print(sorted(sessions[num]))\n",
    "x = (sessions[1][-1]- sessions[1][0])\n"
   ]
  },
  {
   "cell_type": "code",
   "execution_count": 216,
   "id": "d885f4ba",
   "metadata": {},
   "outputs": [
    {
     "data": {
      "text/plain": [
       "[datetime.datetime(2023, 10, 1, 12, 0),\n",
       " datetime.datetime(2023, 10, 1, 12, 5),\n",
       " datetime.datetime(2023, 10, 1, 12, 10),\n",
       " datetime.datetime(2023, 10, 1, 12, 55),\n",
       " datetime.datetime(2023, 10, 1, 13, 0)]"
      ]
     },
     "execution_count": 216,
     "metadata": {},
     "output_type": "execute_result"
    }
   ],
   "source": [
    "sorted(action_times)"
   ]
  },
  {
   "cell_type": "code",
   "execution_count": 217,
   "id": "744383df",
   "metadata": {},
   "outputs": [],
   "source": [
    "def get_avg_session_time(action_times):\n",
    "    \"\"\"\n",
    "    По списку моментов времени, когда пользователь проявлял активность,\n",
    "    вычисляет среднюю продолжительность его пользовательской сессии\n",
    "    с точки зрения времени.\n",
    "    \n",
    "    Аргументы:\n",
    "        action_times: Список моментов времени, когда пользователь проявлял активность.\n",
    "                      Гарантируется, что моменты времени упорядочены в порядке возрастания.\n",
    "                      \n",
    "    Возвращаемое значение:\n",
    "        Средняя продолжительность пользовательской сессии **в секундах**,\n",
    "        округлённая до $2$-х знаков после запятой.\n",
    "    \"\"\"\n",
    "    len_sessions = 0\n",
    "    count_ses = 0\n",
    "    sessions = get_sessions(sorted(action_times))\n",
    "\n",
    "    for num in range(0, len(sessions)):\n",
    "        if len(sessions[num]) >= 2:\n",
    "            len_sessions+= (sessions[num][-1]- sessions[num][0]).total_seconds()\n",
    "            #print(len_sessions)\n",
    "            count_ses+=1\n",
    "            #print(count_ses)\n",
    "    if (count_ses == 0):\n",
    "        return 0\n",
    "    return round_to_2((len_sessions/count_ses)/60)\n",
    "    "
   ]
  },
  {
   "cell_type": "code",
   "execution_count": 179,
   "id": "5ef4a7a7",
   "metadata": {},
   "outputs": [],
   "source": [
    "example_1_action_times = [\n",
    "        pd.Timestamp(year=2023, month=1, day=12, hour=15, minute=17, second=35),\n",
    "        pd.Timestamp(year=2023, month=1, day=12, hour=15, minute=41, second=21),\n",
    "        pd.Timestamp(year=2023, month=1, day=13, hour=15, minute=41, second=21),\n",
    "    ]"
   ]
  },
  {
   "cell_type": "code",
   "execution_count": 174,
   "id": "0f3721ef",
   "metadata": {},
   "outputs": [],
   "source": [
    "ex = get_sessions(example_1_action_times)"
   ]
  },
  {
   "cell_type": "code",
   "execution_count": 177,
   "id": "fe5ee8bf",
   "metadata": {},
   "outputs": [
    {
     "data": {
      "text/plain": [
       "Timedelta('0 days 00:23:46')"
      ]
     },
     "execution_count": 177,
     "metadata": {},
     "output_type": "execute_result"
    }
   ],
   "source": [
    "ex[0][-1] - ex[0][0]"
   ]
  },
  {
   "cell_type": "code",
   "execution_count": 220,
   "id": "b35b5776",
   "metadata": {},
   "outputs": [
    {
     "data": {
      "text/plain": [
       "23.77"
      ]
     },
     "execution_count": 220,
     "metadata": {},
     "output_type": "execute_result"
    }
   ],
   "source": [
    "get_avg_session_time(example_1_action_times)"
   ]
  },
  {
   "cell_type": "code",
   "execution_count": 219,
   "id": "b064b864",
   "metadata": {},
   "outputs": [],
   "source": [
    "def get_avg_session_time_test():\n",
    "    example_1_action_times = [\n",
    "        pd.Timestamp(year=2023, month=1, day=12, hour=15, minute=17, second=35),\n",
    "        pd.Timestamp(year=2023, month=1, day=12, hour=15, minute=41, second=21),\n",
    "        pd.Timestamp(year=2023, month=1, day=13, hour=15, minute=41, second=21),\n",
    "    ]\n",
    "    \n",
    "    example_1_res = 23.77\n",
    "    \n",
    "    custom_compare(get_avg_session_time(example_1_action_times), example_1_res)\n",
    "    \n",
    "    example_2_action_times = [\n",
    "        pd.Timestamp(year=2023, month=1, day=12, hour=15, minute=17, second=35),\n",
    "        pd.Timestamp(year=2023, month=1, day=13, hour=15, minute=41, second=21),\n",
    "    ]\n",
    "    \n",
    "    example_2_res = 0\n",
    "    \n",
    "    custom_compare(get_avg_session_time(example_2_action_times), example_2_res)\n",
    "    \n",
    "    example_3_action_times = [\n",
    "        pd.Timestamp(year=2023, month=1, day=12, hour=15, minute=17, second=35),\n",
    "        pd.Timestamp(year=2023, month=1, day=12, hour=15, minute=18, second=24),\n",
    "        pd.Timestamp(year=2023, month=2, day=21, hour=9, minute=42, second=31),\n",
    "        pd.Timestamp(year=2023, month=2, day=21, hour=10, minute=21, second=9),\n",
    "        pd.Timestamp(year=2023, month=2, day=21, hour=10, minute=37, second=46),\n",
    "        pd.Timestamp(year=2023, month=2, day=27, hour=17, minute=37, second=46),\n",
    "        pd.Timestamp(year=2023, month=2, day=27, hour=18, minute=12, second=46),\n",
    "        pd.Timestamp(year=2023, month=2, day=27, hour=18, minute=44, second=53),\n",
    "        pd.Timestamp(year=2023, month=2, day=27, hour=19, minute=2, second=11),\n",
    "        pd.Timestamp(year=2023, month=8, day=21, hour=10, minute=37, second=46),\n",
    "    ]\n",
    "    \n",
    "    example_3_res = 46.83\n",
    "    \n",
    "    custom_compare(get_avg_session_time(example_3_action_times), example_3_res)\n",
    "    \n",
    "    print('Все тесты прошли успешно!')"
   ]
  },
  {
   "cell_type": "code",
   "execution_count": 221,
   "id": "2c111d1c",
   "metadata": {},
   "outputs": [
    {
     "name": "stdout",
     "output_type": "stream",
     "text": [
      "Все тесты прошли успешно!\n"
     ]
    }
   ],
   "source": [
    "get_avg_session_time_test()"
   ]
  },
  {
   "cell_type": "code",
   "execution_count": 190,
   "id": "ed6a94e5",
   "metadata": {},
   "outputs": [
    {
     "data": {
      "text/html": [
       "<div>\n",
       "<style scoped>\n",
       "    .dataframe tbody tr th:only-of-type {\n",
       "        vertical-align: middle;\n",
       "    }\n",
       "\n",
       "    .dataframe tbody tr th {\n",
       "        vertical-align: top;\n",
       "    }\n",
       "\n",
       "    .dataframe thead th {\n",
       "        text-align: right;\n",
       "    }\n",
       "</style>\n",
       "<table border=\"1\" class=\"dataframe\">\n",
       "  <thead>\n",
       "    <tr style=\"text-align: right;\">\n",
       "      <th></th>\n",
       "      <th>id</th>\n",
       "      <th>user_id</th>\n",
       "      <th>ip</th>\n",
       "      <th>action_time</th>\n",
       "      <th>action</th>\n",
       "      <th>time</th>\n",
       "    </tr>\n",
       "  </thead>\n",
       "  <tbody>\n",
       "    <tr>\n",
       "      <th>0</th>\n",
       "      <td>619</td>\n",
       "      <td>NaN</td>\n",
       "      <td>244.143.138.0</td>\n",
       "      <td>2021-01-20 18:36:32</td>\n",
       "      <td>{'id': 234676, 'action': 'search', 'time': 202...</td>\n",
       "      <td>2021-01-20 18:36:32</td>\n",
       "    </tr>\n",
       "    <tr>\n",
       "      <th>1</th>\n",
       "      <td>919428</td>\n",
       "      <td>30083.0</td>\n",
       "      <td>157.169.233.89</td>\n",
       "      <td>2023-12-10 04:13:50</td>\n",
       "      <td>{'id': 541654, 'action': 'search', 'time': 202...</td>\n",
       "      <td>2023-12-10 04:13:50</td>\n",
       "    </tr>\n",
       "    <tr>\n",
       "      <th>2</th>\n",
       "      <td>630539</td>\n",
       "      <td>NaN</td>\n",
       "      <td>160.111.52.224</td>\n",
       "      <td>2023-09-26 04:09:44</td>\n",
       "      <td>{'id': 230556, 'action': 'click', 'time': 2023...</td>\n",
       "      <td>2023-09-26 04:09:44</td>\n",
       "    </tr>\n",
       "    <tr>\n",
       "      <th>3</th>\n",
       "      <td>963478</td>\n",
       "      <td>NaN</td>\n",
       "      <td>247.14.235.202</td>\n",
       "      <td>2023-12-19 21:02:47</td>\n",
       "      <td>{'id': 838067, 'action': 'click', 'time': 2023...</td>\n",
       "      <td>2023-12-19 21:02:47</td>\n",
       "    </tr>\n",
       "    <tr>\n",
       "      <th>4</th>\n",
       "      <td>421566</td>\n",
       "      <td>NaN</td>\n",
       "      <td>255.2.67.154</td>\n",
       "      <td>2023-07-20 16:04:14</td>\n",
       "      <td>{'id': 924754, 'action': 'search', 'time': 202...</td>\n",
       "      <td>2023-07-20 16:04:14</td>\n",
       "    </tr>\n",
       "  </tbody>\n",
       "</table>\n",
       "</div>"
      ],
      "text/plain": [
       "       id  user_id              ip         action_time  \\\n",
       "0     619      NaN   244.143.138.0 2021-01-20 18:36:32   \n",
       "1  919428  30083.0  157.169.233.89 2023-12-10 04:13:50   \n",
       "2  630539      NaN  160.111.52.224 2023-09-26 04:09:44   \n",
       "3  963478      NaN  247.14.235.202 2023-12-19 21:02:47   \n",
       "4  421566      NaN    255.2.67.154 2023-07-20 16:04:14   \n",
       "\n",
       "                                              action                time  \n",
       "0  {'id': 234676, 'action': 'search', 'time': 202... 2021-01-20 18:36:32  \n",
       "1  {'id': 541654, 'action': 'search', 'time': 202... 2023-12-10 04:13:50  \n",
       "2  {'id': 230556, 'action': 'click', 'time': 2023... 2023-09-26 04:09:44  \n",
       "3  {'id': 838067, 'action': 'click', 'time': 2023... 2023-12-19 21:02:47  \n",
       "4  {'id': 924754, 'action': 'search', 'time': 202... 2023-07-20 16:04:14  "
      ]
     },
     "execution_count": 190,
     "metadata": {},
     "output_type": "execute_result"
    }
   ],
   "source": [
    "user_session.head()"
   ]
  },
  {
   "cell_type": "code",
   "execution_count": 222,
   "id": "4aaa92d1",
   "metadata": {},
   "outputs": [],
   "source": [
    "avg_time = user_session.groupby('ip', as_index=False).agg({'action_time': get_avg_session_time})"
   ]
  },
  {
   "cell_type": "code",
   "execution_count": 213,
   "id": "cd534b40",
   "metadata": {},
   "outputs": [],
   "source": [
    "avg_time = user_session.groupby('ip')['action_time'].agg(lambda x: get_avg_session_time(x.tolist())).reset_index()"
   ]
  },
  {
   "cell_type": "code",
   "execution_count": 223,
   "id": "acc0d3cf",
   "metadata": {},
   "outputs": [
    {
     "data": {
      "text/html": [
       "<div>\n",
       "<style scoped>\n",
       "    .dataframe tbody tr th:only-of-type {\n",
       "        vertical-align: middle;\n",
       "    }\n",
       "\n",
       "    .dataframe tbody tr th {\n",
       "        vertical-align: top;\n",
       "    }\n",
       "\n",
       "    .dataframe thead th {\n",
       "        text-align: right;\n",
       "    }\n",
       "</style>\n",
       "<table border=\"1\" class=\"dataframe\">\n",
       "  <thead>\n",
       "    <tr style=\"text-align: right;\">\n",
       "      <th></th>\n",
       "      <th>ip</th>\n",
       "      <th>action_time</th>\n",
       "    </tr>\n",
       "  </thead>\n",
       "  <tbody>\n",
       "    <tr>\n",
       "      <th>0</th>\n",
       "      <td>0.106.25.239</td>\n",
       "      <td>0.00</td>\n",
       "    </tr>\n",
       "    <tr>\n",
       "      <th>1</th>\n",
       "      <td>0.11.175.78</td>\n",
       "      <td>0.00</td>\n",
       "    </tr>\n",
       "    <tr>\n",
       "      <th>2</th>\n",
       "      <td>0.113.1.142</td>\n",
       "      <td>13.90</td>\n",
       "    </tr>\n",
       "    <tr>\n",
       "      <th>3</th>\n",
       "      <td>0.123.24.62</td>\n",
       "      <td>0.00</td>\n",
       "    </tr>\n",
       "    <tr>\n",
       "      <th>4</th>\n",
       "      <td>0.130.111.71</td>\n",
       "      <td>0.67</td>\n",
       "    </tr>\n",
       "    <tr>\n",
       "      <th>...</th>\n",
       "      <td>...</td>\n",
       "      <td>...</td>\n",
       "    </tr>\n",
       "    <tr>\n",
       "      <th>11619</th>\n",
       "      <td>99.83.159.45</td>\n",
       "      <td>19.63</td>\n",
       "    </tr>\n",
       "    <tr>\n",
       "      <th>11620</th>\n",
       "      <td>99.86.191.3</td>\n",
       "      <td>0.85</td>\n",
       "    </tr>\n",
       "    <tr>\n",
       "      <th>11621</th>\n",
       "      <td>99.90.75.33</td>\n",
       "      <td>0.00</td>\n",
       "    </tr>\n",
       "    <tr>\n",
       "      <th>11622</th>\n",
       "      <td>99.96.162.47</td>\n",
       "      <td>0.00</td>\n",
       "    </tr>\n",
       "    <tr>\n",
       "      <th>11623</th>\n",
       "      <td>99.97.98.204</td>\n",
       "      <td>2.33</td>\n",
       "    </tr>\n",
       "  </tbody>\n",
       "</table>\n",
       "<p>11624 rows × 2 columns</p>\n",
       "</div>"
      ],
      "text/plain": [
       "                 ip  action_time\n",
       "0      0.106.25.239         0.00\n",
       "1       0.11.175.78         0.00\n",
       "2       0.113.1.142        13.90\n",
       "3       0.123.24.62         0.00\n",
       "4      0.130.111.71         0.67\n",
       "...             ...          ...\n",
       "11619  99.83.159.45        19.63\n",
       "11620   99.86.191.3         0.85\n",
       "11621   99.90.75.33         0.00\n",
       "11622  99.96.162.47         0.00\n",
       "11623  99.97.98.204         2.33\n",
       "\n",
       "[11624 rows x 2 columns]"
      ]
     },
     "execution_count": 223,
     "metadata": {},
     "output_type": "execute_result"
    }
   ],
   "source": [
    "avg_time"
   ]
  },
  {
   "cell_type": "code",
   "execution_count": 227,
   "id": "a9013583",
   "metadata": {},
   "outputs": [
    {
     "data": {
      "text/plain": [
       "0.3981417756366139"
      ]
     },
     "execution_count": 227,
     "metadata": {},
     "output_type": "execute_result"
    }
   ],
   "source": [
    "4628/11624"
   ]
  },
  {
   "cell_type": "code",
   "execution_count": 226,
   "id": "a178578e",
   "metadata": {},
   "outputs": [
    {
     "data": {
      "text/html": [
       "<div>\n",
       "<style scoped>\n",
       "    .dataframe tbody tr th:only-of-type {\n",
       "        vertical-align: middle;\n",
       "    }\n",
       "\n",
       "    .dataframe tbody tr th {\n",
       "        vertical-align: top;\n",
       "    }\n",
       "\n",
       "    .dataframe thead th {\n",
       "        text-align: right;\n",
       "    }\n",
       "</style>\n",
       "<table border=\"1\" class=\"dataframe\">\n",
       "  <thead>\n",
       "    <tr style=\"text-align: right;\">\n",
       "      <th></th>\n",
       "      <th>ip</th>\n",
       "      <th>action_time</th>\n",
       "    </tr>\n",
       "  </thead>\n",
       "  <tbody>\n",
       "    <tr>\n",
       "      <th>0</th>\n",
       "      <td>0.106.25.239</td>\n",
       "      <td>0.0</td>\n",
       "    </tr>\n",
       "    <tr>\n",
       "      <th>1</th>\n",
       "      <td>0.11.175.78</td>\n",
       "      <td>0.0</td>\n",
       "    </tr>\n",
       "    <tr>\n",
       "      <th>3</th>\n",
       "      <td>0.123.24.62</td>\n",
       "      <td>0.0</td>\n",
       "    </tr>\n",
       "    <tr>\n",
       "      <th>5</th>\n",
       "      <td>0.131.39.17</td>\n",
       "      <td>0.0</td>\n",
       "    </tr>\n",
       "    <tr>\n",
       "      <th>7</th>\n",
       "      <td>0.134.245.109</td>\n",
       "      <td>0.0</td>\n",
       "    </tr>\n",
       "    <tr>\n",
       "      <th>...</th>\n",
       "      <td>...</td>\n",
       "      <td>...</td>\n",
       "    </tr>\n",
       "    <tr>\n",
       "      <th>11611</th>\n",
       "      <td>99.49.61.11</td>\n",
       "      <td>0.0</td>\n",
       "    </tr>\n",
       "    <tr>\n",
       "      <th>11615</th>\n",
       "      <td>99.67.77.86</td>\n",
       "      <td>0.0</td>\n",
       "    </tr>\n",
       "    <tr>\n",
       "      <th>11618</th>\n",
       "      <td>99.82.142.180</td>\n",
       "      <td>0.0</td>\n",
       "    </tr>\n",
       "    <tr>\n",
       "      <th>11621</th>\n",
       "      <td>99.90.75.33</td>\n",
       "      <td>0.0</td>\n",
       "    </tr>\n",
       "    <tr>\n",
       "      <th>11622</th>\n",
       "      <td>99.96.162.47</td>\n",
       "      <td>0.0</td>\n",
       "    </tr>\n",
       "  </tbody>\n",
       "</table>\n",
       "<p>4628 rows × 2 columns</p>\n",
       "</div>"
      ],
      "text/plain": [
       "                  ip  action_time\n",
       "0       0.106.25.239          0.0\n",
       "1        0.11.175.78          0.0\n",
       "3        0.123.24.62          0.0\n",
       "5        0.131.39.17          0.0\n",
       "7      0.134.245.109          0.0\n",
       "...              ...          ...\n",
       "11611    99.49.61.11          0.0\n",
       "11615    99.67.77.86          0.0\n",
       "11618  99.82.142.180          0.0\n",
       "11621    99.90.75.33          0.0\n",
       "11622   99.96.162.47          0.0\n",
       "\n",
       "[4628 rows x 2 columns]"
      ]
     },
     "execution_count": 226,
     "metadata": {},
     "output_type": "execute_result"
    }
   ],
   "source": [
    "avg_time[avg_time['action_time'] == 0]"
   ]
  },
  {
   "cell_type": "code",
   "execution_count": 232,
   "id": "12aa43cd",
   "metadata": {},
   "outputs": [
    {
     "data": {
      "text/plain": [
       "5.619685534591195"
      ]
     },
     "execution_count": 232,
     "metadata": {},
     "output_type": "execute_result"
    }
   ],
   "source": [
    "avg_time[avg_time['action_time'] != 0]['action_time'].mean()"
   ]
  },
  {
   "cell_type": "markdown",
   "id": "cd29f5e9",
   "metadata": {},
   "source": [
    "## Задание 2"
   ]
  },
  {
   "cell_type": "markdown",
   "id": "504c7061",
   "metadata": {},
   "source": [
    "Используя функцию `get_avg_session_time`, вычислите среднюю продолжительность пользовательской сессии для пользователей из таблицы `user_session`, с которой вы работали в рамках предыдущих упражнений. Для этого усредните значения средней продолжительности пользовательских сессий по всем пользователям.\n",
    "\n",
    "**Обратите внимание**, что среднее можно вычислять как по всем пользователям вообще, так и по тем, у кого среднее время пользовательской сессии больше $0$. В рамках задания вычислите значение по всему множеству пользователей.\n",
    "\n",
    "Аналогично лекции нужно считать, что пользователя уникальным образом идентифицирует IP-адрес, с которого он совершал действия.\n",
    "\n",
    "Ответ округлите до $2$-х знаков после запятой."
   ]
  },
  {
   "cell_type": "markdown",
   "id": "a8dcfea6",
   "metadata": {},
   "source": [
    "## Задание 3"
   ]
  },
  {
   "cell_type": "markdown",
   "id": "3515e3c1",
   "metadata": {},
   "source": [
    "### Вопрос 1"
   ]
  },
  {
   "cell_type": "markdown",
   "id": "888492ef",
   "metadata": {},
   "source": [
    "У какой доли пользователей среднее значение пользовательской сессии равно $0$?\n",
    "\n",
    "Ответ округлите до $2$-х знаков после запятой."
   ]
  },
  {
   "cell_type": "markdown",
   "id": "55572d1c",
   "metadata": {},
   "source": [
    "### Вопрос 2"
   ]
  },
  {
   "cell_type": "markdown",
   "id": "7713a591",
   "metadata": {},
   "source": [
    "Рассчитайте средннюю продолжительность пользовательской сессии только по пользователям, у которых средняя продолжительность пользовательской сессии больше $0$.\n",
    "\n",
    "Ответ округлите до $2$-х знаков после запятой."
   ]
  },
  {
   "cell_type": "code",
   "execution_count": null,
   "id": "cbd089ca",
   "metadata": {},
   "outputs": [],
   "source": []
  }
 ],
 "metadata": {
  "kernelspec": {
   "display_name": "Python 3",
   "language": "python",
   "name": "python3"
  },
  "language_info": {
   "codemirror_mode": {
    "name": "ipython",
    "version": 3
   },
   "file_extension": ".py",
   "mimetype": "text/x-python",
   "name": "python",
   "nbconvert_exporter": "python",
   "pygments_lexer": "ipython3",
   "version": "3.11.7"
  }
 },
 "nbformat": 4,
 "nbformat_minor": 5
}
